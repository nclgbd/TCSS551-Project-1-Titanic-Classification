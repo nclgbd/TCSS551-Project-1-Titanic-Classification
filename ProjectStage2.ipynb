{
 "cells": [
  {
   "cell_type": "markdown",
   "metadata": {},
   "source": [
    "# Project Stage-2: 2nd EDA, Data Transformation, Modeling, and Inference\n",
    "**Nicole Guobadia**\n",
    "\n",
    "**December 2nd, 2021**\n",
    "\n",
    "Now for the project, you have a problem to solve and a dataset to use. In this 2nd stage, you are going to show how you transform the data based on EDA or use EDA to figure out certain features that you will use for modeling. Then, you will apply your own chosen model(s) to conduct modeling for prediction. Moreover, you are ready to do inference and compare between different models to improve your leaderboard position as much as possible.\n",
    "\n",
    "## Requirements\n",
    "### 1.1 Stage-1\n",
    "\n",
    "### 1.2 EDA and Data Transformation\n",
    "This is an open question. The goal of this section is to prepare the data ready for modeling. First, the raw data you have may not be ready for even very simple EDA.\n",
    "\n",
    "* Describe the transformations of the data you have applied if applicable. Why or Why not? [10 points]\n",
    "Second, you probably have a certain number of features that you can use. You may choose to use all or some.\n",
    "* What are the features you choose to use for modeling? Why? Note: You may use EDA to show the reason. [5 points]\n",
    "Finally, you will have the data ready for prediction. \n",
    "* Readiness of the data. [2 points] [HINT: for some models, the value range of your features can affect the model a lot. Data normalization may be needed, o.w., one feature with huge values may dominate the modeling effect]\n",
    "\n",
    "### 1.3 Modeling\n",
    "To solve your prediction problem, you need to choose a specific model and choose a specific loss function to estimate the model's parameters. The method can be novel proposal from yourself or existing methods. \n",
    "\n",
    "* Describe the chosen model and why choose this one. [3 points]\n",
    "* Describe how the chosen features in 1.2 are involved in the chosen model (e.g., weighted linear combination of features in a linear model). [2 points]\n",
    "* Describe the loss function that will be used to estimate the model's parameters (HINT: MSE? MAE? or others? if you are using an existing lib, you may need to check its document or google to figure out ). [2 points]\n",
    "* Use a specific way (different ways have been discussed in A3) to estimate the model's parameters (e.g., sklearn's fit). [2 points]\n",
    "* Use the model estimated to conduct a submission to the Kaggle competition and screenshot your leaderboard position. [3 points] \n",
    "\n",
    "### 1.4 Inference\n",
    "In 1.3, you may have used the whole training data to do the model estimation. In this way, you have to submit many times to the leaderboard to compare the performance of different potential models (e.g., models using different subset of features, different models [i.e., SVM vs. Logistic Regression] using the same subset of features). This is actually not desired in real applications of data science. Therefore, you are required to choose another model to have at least two models (in your favor, any applicable ones, you can do literature review to see potential ones): A (model chosen in 1.3) and B, and compare their performance using cross validation (e.g., If you had to choose between A and B, which is better and why?). Your experiment should include but not limited to the following items.\n",
    "\n",
    "* Correct choose of standard evaluation metric(s) for comparison, e.g., MSE for regression, accuracy for classification. [2 points] \n",
    "* Sound data splitting for train and test using only the training data to fairly compare A and B (main idea can be borrowed from A3). [5 points]\n",
    "* Fair performance comparison between A and B with clear explanation on which is better and why (without loss of significance test, main idea can be borrowed from A3). [5 points]\n",
    "* Conduct at least another submission to Kaggle and check if your leaderboard position can be improved (embed new screenshot for your leaderboard position in your notebook). [2 point]\n",
    "* Bonus [+4 points]: the team with the top leaderboard position of each project in this class will obtain bonus points and a prize from Juhua conditioned on a presentation sharing in the last lecture.\n",
    "\n",
    "Potentially useful tips for all of you, although performance improvement is not guaranteed\n",
    "* Do not blindly drop a column with high missing rate or fill with mean, median, random, etc. Understand the meaning of missing at first. For example, if not available, the value can be 0. If you have different groups (e.g., child, adult), you may fill using the within group information.\n",
    "* Data normalization should change the value to meaningful range, e.g., age can be normalized but not to negative values. \n",
    "* For regression, outliers far away from your model assumption can be penalized a lot. The optimization procedure for the model estimation will be mislead by these outliers.\n",
    "* For classification, stratified sampling is important to cover all classes for splitting. For the training data, it is important to check if classes are balanced. If not, the major class may dominate your model estimation. You may want to balance your training data.\n",
    "\n",
    "### 1.5 Conclusions and Learnings\n",
    "In this section, you can summarize your project and conclude your findings based on what you have done for the whole project. Additionally, please state what you have learned from this project in this course.\n",
    "\n",
    "* A convincing conclusion about the findings. [2 points]\n",
    "* What you have learned from this project. [2 points]"
   ]
  },
  {
   "cell_type": "markdown",
   "metadata": {},
   "source": [
    "# Imports and Setup\n",
    "**Note:** for a large portion of this notebook I will be using an application called [Weights and Biases (wandb)](https://docs.wandb.ai/). This is where a majority of my hyperparameter tuning and data visualizations will exist, however I will be placing important information from relevant runs within the notebook. To see all of the sweeps done, click [here](https://wandb.ai/nclgbd/Titanic-Classification/sweeps?workspace=user-nclgbd)"
   ]
  },
  {
   "cell_type": "code",
   "execution_count": 1,
   "metadata": {},
   "outputs": [
    {
     "name": "stdout",
     "output_type": "stream",
     "text": [
      "env: WANDB_SILENT=true\n"
     ]
    }
   ],
   "source": [
    "import os\n",
    "import re\n",
    "import wandb\n",
    "import pandas as pd\n",
    "import numpy as np\n",
    "import matplotlib.pyplot as plt\n",
    "import seaborn as sns\n",
    "\n",
    "from joblib import dump\n",
    "from pprint import pprint\n",
    "from dotenv import dotenv_values\n",
    "from time import time\n",
    "\n",
    "from sklearn.ensemble import RandomForestClassifier\n",
    "from sklearn.metrics import (accuracy_score,\n",
    "                             precision_score,\n",
    "                             recall_score,\n",
    "                             f1_score,\n",
    "                             roc_auc_score,\n",
    "                             confusion_matrix,\n",
    "                             classification_report,\n",
    "                             ConfusionMatrixDisplay)\n",
    "from sklearn.model_selection import StratifiedKFold\n",
    "from sklearn.preprocessing import StandardScaler\n",
    "from sklearn.linear_model import LogisticRegression\n",
    "\n",
    "# pipeline\n",
    "from sklearn.pipeline import Pipeline\n",
    "\n",
    "# for the preprocessors\n",
    "from sklearn.base import BaseEstimator, TransformerMixin\n",
    "\n",
    "from statistics import (fmean, \n",
    "                        stdev)\n",
    "\n",
    "# for imputation\n",
    "from feature_engine.imputation import (\n",
    "    CategoricalImputer,\n",
    "    AddMissingIndicator,\n",
    "    MeanMedianImputer)\n",
    "\n",
    "# for encoding categorical variables\n",
    "from feature_engine.encoding import (\n",
    "    RareLabelEncoder,\n",
    "    OneHotEncoder)\n",
    "\n",
    "%env WANDB_SILENT=true"
   ]
  },
  {
   "cell_type": "code",
   "execution_count": 2,
   "metadata": {},
   "outputs": [],
   "source": [
    "# Directories and wandb setup\n",
    "DATA_DIR = \"data/train.csv\"\n",
    "TEST_DIR = \"data/test.csv\"\n",
    "PROJECT_ENV = dotenv_values(\"config/project.env\")\n",
    "PROJECT = PROJECT_ENV[\"project\"]\n",
    "ENTITY = PROJECT_ENV[\"entity\"]\n",
    "os.environ['WANDB_NOTEBOOK_NAME'] = os.path.join(os.getcwd(), \"ProjectStage2.ipynb\")\n",
    "\n",
    "wandb.login();"
   ]
  },
  {
   "cell_type": "markdown",
   "metadata": {},
   "source": [
    "## Reload the data using methods from the previous notebook"
   ]
  },
  {
   "cell_type": "code",
   "execution_count": 3,
   "metadata": {},
   "outputs": [
    {
     "data": {
      "text/html": [
       "<div>\n",
       "<style scoped>\n",
       "    .dataframe tbody tr th:only-of-type {\n",
       "        vertical-align: middle;\n",
       "    }\n",
       "\n",
       "    .dataframe tbody tr th {\n",
       "        vertical-align: top;\n",
       "    }\n",
       "\n",
       "    .dataframe thead th {\n",
       "        text-align: right;\n",
       "    }\n",
       "</style>\n",
       "<table border=\"1\" class=\"dataframe\">\n",
       "  <thead>\n",
       "    <tr style=\"text-align: right;\">\n",
       "      <th></th>\n",
       "      <th>passengerid</th>\n",
       "      <th>survived</th>\n",
       "      <th>pclass</th>\n",
       "      <th>name</th>\n",
       "      <th>sex</th>\n",
       "      <th>age</th>\n",
       "      <th>sibsp</th>\n",
       "      <th>parch</th>\n",
       "      <th>ticket</th>\n",
       "      <th>fare</th>\n",
       "      <th>cabin</th>\n",
       "      <th>embarked</th>\n",
       "    </tr>\n",
       "  </thead>\n",
       "  <tbody>\n",
       "    <tr>\n",
       "      <th>0</th>\n",
       "      <td>1</td>\n",
       "      <td>0</td>\n",
       "      <td>3</td>\n",
       "      <td>Braund, Mr. Owen Harris</td>\n",
       "      <td>male</td>\n",
       "      <td>22.0</td>\n",
       "      <td>1</td>\n",
       "      <td>0</td>\n",
       "      <td>A/5 21171</td>\n",
       "      <td>7.2500</td>\n",
       "      <td>NaN</td>\n",
       "      <td>S</td>\n",
       "    </tr>\n",
       "    <tr>\n",
       "      <th>1</th>\n",
       "      <td>2</td>\n",
       "      <td>1</td>\n",
       "      <td>1</td>\n",
       "      <td>Cumings, Mrs. John Bradley (Florence Briggs Th...</td>\n",
       "      <td>female</td>\n",
       "      <td>38.0</td>\n",
       "      <td>1</td>\n",
       "      <td>0</td>\n",
       "      <td>PC 17599</td>\n",
       "      <td>71.2833</td>\n",
       "      <td>C85</td>\n",
       "      <td>C</td>\n",
       "    </tr>\n",
       "    <tr>\n",
       "      <th>2</th>\n",
       "      <td>3</td>\n",
       "      <td>1</td>\n",
       "      <td>3</td>\n",
       "      <td>Heikkinen, Miss. Laina</td>\n",
       "      <td>female</td>\n",
       "      <td>26.0</td>\n",
       "      <td>0</td>\n",
       "      <td>0</td>\n",
       "      <td>STON/O2. 3101282</td>\n",
       "      <td>7.9250</td>\n",
       "      <td>NaN</td>\n",
       "      <td>S</td>\n",
       "    </tr>\n",
       "    <tr>\n",
       "      <th>3</th>\n",
       "      <td>4</td>\n",
       "      <td>1</td>\n",
       "      <td>1</td>\n",
       "      <td>Futrelle, Mrs. Jacques Heath (Lily May Peel)</td>\n",
       "      <td>female</td>\n",
       "      <td>35.0</td>\n",
       "      <td>1</td>\n",
       "      <td>0</td>\n",
       "      <td>113803</td>\n",
       "      <td>53.1000</td>\n",
       "      <td>C123</td>\n",
       "      <td>S</td>\n",
       "    </tr>\n",
       "    <tr>\n",
       "      <th>4</th>\n",
       "      <td>5</td>\n",
       "      <td>0</td>\n",
       "      <td>3</td>\n",
       "      <td>Allen, Mr. William Henry</td>\n",
       "      <td>male</td>\n",
       "      <td>35.0</td>\n",
       "      <td>0</td>\n",
       "      <td>0</td>\n",
       "      <td>373450</td>\n",
       "      <td>8.0500</td>\n",
       "      <td>NaN</td>\n",
       "      <td>S</td>\n",
       "    </tr>\n",
       "  </tbody>\n",
       "</table>\n",
       "</div>"
      ],
      "text/plain": [
       "   passengerid  survived  pclass  \\\n",
       "0            1         0       3   \n",
       "1            2         1       1   \n",
       "2            3         1       3   \n",
       "3            4         1       1   \n",
       "4            5         0       3   \n",
       "\n",
       "                                                name     sex   age  sibsp  \\\n",
       "0                            Braund, Mr. Owen Harris    male  22.0      1   \n",
       "1  Cumings, Mrs. John Bradley (Florence Briggs Th...  female  38.0      1   \n",
       "2                             Heikkinen, Miss. Laina  female  26.0      0   \n",
       "3       Futrelle, Mrs. Jacques Heath (Lily May Peel)  female  35.0      1   \n",
       "4                           Allen, Mr. William Henry    male  35.0      0   \n",
       "\n",
       "   parch            ticket     fare cabin embarked  \n",
       "0      0         A/5 21171   7.2500   NaN        S  \n",
       "1      0          PC 17599  71.2833   C85        C  \n",
       "2      0  STON/O2. 3101282   7.9250   NaN        S  \n",
       "3      0            113803  53.1000  C123        S  \n",
       "4      0            373450   8.0500   NaN        S  "
      ]
     },
     "execution_count": 3,
     "metadata": {},
     "output_type": "execute_result"
    }
   ],
   "source": [
    "# load the data - it is available open source and online\n",
    "data = pd.read_csv(DATA_DIR)\n",
    "test_data = pd.read_csv(TEST_DIR)\n",
    "new_columns_dict = dict(zip(data.columns, [col.lower() for col in data.columns]))\n",
    "data = data.rename(columns=new_columns_dict)\n",
    "data.head()"
   ]
  },
  {
   "cell_type": "code",
   "execution_count": 4,
   "metadata": {},
   "outputs": [
    {
     "data": {
      "text/html": [
       "<div>\n",
       "<style scoped>\n",
       "    .dataframe tbody tr th:only-of-type {\n",
       "        vertical-align: middle;\n",
       "    }\n",
       "\n",
       "    .dataframe tbody tr th {\n",
       "        vertical-align: top;\n",
       "    }\n",
       "\n",
       "    .dataframe thead th {\n",
       "        text-align: right;\n",
       "    }\n",
       "</style>\n",
       "<table border=\"1\" class=\"dataframe\">\n",
       "  <thead>\n",
       "    <tr style=\"text-align: right;\">\n",
       "      <th></th>\n",
       "      <th>passengerid</th>\n",
       "      <th>survived</th>\n",
       "      <th>pclass</th>\n",
       "      <th>name</th>\n",
       "      <th>sex</th>\n",
       "      <th>age</th>\n",
       "      <th>sibsp</th>\n",
       "      <th>parch</th>\n",
       "      <th>ticket</th>\n",
       "      <th>fare</th>\n",
       "      <th>cabin</th>\n",
       "      <th>embarked</th>\n",
       "    </tr>\n",
       "  </thead>\n",
       "  <tbody>\n",
       "    <tr>\n",
       "      <th>0</th>\n",
       "      <td>1</td>\n",
       "      <td>0</td>\n",
       "      <td>3</td>\n",
       "      <td>Braund, Mr. Owen Harris</td>\n",
       "      <td>male</td>\n",
       "      <td>22.0</td>\n",
       "      <td>1</td>\n",
       "      <td>0</td>\n",
       "      <td>A/5 21171</td>\n",
       "      <td>7.2500</td>\n",
       "      <td>NaN</td>\n",
       "      <td>S</td>\n",
       "    </tr>\n",
       "    <tr>\n",
       "      <th>1</th>\n",
       "      <td>2</td>\n",
       "      <td>1</td>\n",
       "      <td>1</td>\n",
       "      <td>Cumings, Mrs. John Bradley (Florence Briggs Th...</td>\n",
       "      <td>female</td>\n",
       "      <td>38.0</td>\n",
       "      <td>1</td>\n",
       "      <td>0</td>\n",
       "      <td>PC 17599</td>\n",
       "      <td>71.2833</td>\n",
       "      <td>C85</td>\n",
       "      <td>C</td>\n",
       "    </tr>\n",
       "    <tr>\n",
       "      <th>2</th>\n",
       "      <td>3</td>\n",
       "      <td>1</td>\n",
       "      <td>3</td>\n",
       "      <td>Heikkinen, Miss. Laina</td>\n",
       "      <td>female</td>\n",
       "      <td>26.0</td>\n",
       "      <td>0</td>\n",
       "      <td>0</td>\n",
       "      <td>STON/O2. 3101282</td>\n",
       "      <td>7.9250</td>\n",
       "      <td>NaN</td>\n",
       "      <td>S</td>\n",
       "    </tr>\n",
       "    <tr>\n",
       "      <th>3</th>\n",
       "      <td>4</td>\n",
       "      <td>1</td>\n",
       "      <td>1</td>\n",
       "      <td>Futrelle, Mrs. Jacques Heath (Lily May Peel)</td>\n",
       "      <td>female</td>\n",
       "      <td>35.0</td>\n",
       "      <td>1</td>\n",
       "      <td>0</td>\n",
       "      <td>113803</td>\n",
       "      <td>53.1000</td>\n",
       "      <td>C123</td>\n",
       "      <td>S</td>\n",
       "    </tr>\n",
       "    <tr>\n",
       "      <th>4</th>\n",
       "      <td>5</td>\n",
       "      <td>0</td>\n",
       "      <td>3</td>\n",
       "      <td>Allen, Mr. William Henry</td>\n",
       "      <td>male</td>\n",
       "      <td>35.0</td>\n",
       "      <td>0</td>\n",
       "      <td>0</td>\n",
       "      <td>373450</td>\n",
       "      <td>8.0500</td>\n",
       "      <td>NaN</td>\n",
       "      <td>S</td>\n",
       "    </tr>\n",
       "  </tbody>\n",
       "</table>\n",
       "</div>"
      ],
      "text/plain": [
       "   passengerid  survived  pclass  \\\n",
       "0            1         0       3   \n",
       "1            2         1       1   \n",
       "2            3         1       3   \n",
       "3            4         1       1   \n",
       "4            5         0       3   \n",
       "\n",
       "                                                name     sex   age  sibsp  \\\n",
       "0                            Braund, Mr. Owen Harris    male  22.0      1   \n",
       "1  Cumings, Mrs. John Bradley (Florence Briggs Th...  female  38.0      1   \n",
       "2                             Heikkinen, Miss. Laina  female  26.0      0   \n",
       "3       Futrelle, Mrs. Jacques Heath (Lily May Peel)  female  35.0      1   \n",
       "4                           Allen, Mr. William Henry    male  35.0      0   \n",
       "\n",
       "   parch            ticket     fare cabin embarked  \n",
       "0      0         A/5 21171   7.2500   NaN        S  \n",
       "1      0          PC 17599  71.2833   C85        C  \n",
       "2      0  STON/O2. 3101282   7.9250   NaN        S  \n",
       "3      0            113803  53.1000  C123        S  \n",
       "4      0            373450   8.0500   NaN        S  "
      ]
     },
     "execution_count": 4,
     "metadata": {},
     "output_type": "execute_result"
    }
   ],
   "source": [
    "# cast numerical variables as floats\n",
    "data['fare'] = data['fare'].astype('float')\n",
    "data['age'] = data['age'].astype('float')\n",
    "data.head()"
   ]
  },
  {
   "cell_type": "code",
   "execution_count": 5,
   "metadata": {},
   "outputs": [],
   "source": [
    "data = data.replace('?', np.nan)"
   ]
  },
  {
   "cell_type": "code",
   "execution_count": 6,
   "metadata": {},
   "outputs": [
    {
     "name": "stdout",
     "output_type": "stream",
     "text": [
      "<class 'pandas.core.frame.DataFrame'>\n",
      "RangeIndex: 891 entries, 0 to 890\n",
      "Data columns (total 12 columns):\n",
      " #   Column       Non-Null Count  Dtype  \n",
      "---  ------       --------------  -----  \n",
      " 0   passengerid  891 non-null    int64  \n",
      " 1   survived     891 non-null    int64  \n",
      " 2   pclass       891 non-null    int64  \n",
      " 3   name         891 non-null    object \n",
      " 4   sex          891 non-null    object \n",
      " 5   age          714 non-null    float64\n",
      " 6   sibsp        891 non-null    int64  \n",
      " 7   parch        891 non-null    int64  \n",
      " 8   ticket       891 non-null    object \n",
      " 9   fare         891 non-null    float64\n",
      " 10  cabin        204 non-null    object \n",
      " 11  embarked     889 non-null    object \n",
      "dtypes: float64(2), int64(5), object(5)\n",
      "memory usage: 83.7+ KB\n"
     ]
    }
   ],
   "source": [
    "data.info()"
   ]
  },
  {
   "cell_type": "code",
   "execution_count": 7,
   "metadata": {},
   "outputs": [
    {
     "data": {
      "text/html": [
       "<div>\n",
       "<style scoped>\n",
       "    .dataframe tbody tr th:only-of-type {\n",
       "        vertical-align: middle;\n",
       "    }\n",
       "\n",
       "    .dataframe tbody tr th {\n",
       "        vertical-align: top;\n",
       "    }\n",
       "\n",
       "    .dataframe thead th {\n",
       "        text-align: right;\n",
       "    }\n",
       "</style>\n",
       "<table border=\"1\" class=\"dataframe\">\n",
       "  <thead>\n",
       "    <tr style=\"text-align: right;\">\n",
       "      <th></th>\n",
       "      <th>passengerid</th>\n",
       "      <th>survived</th>\n",
       "      <th>pclass</th>\n",
       "      <th>age</th>\n",
       "      <th>sibsp</th>\n",
       "      <th>parch</th>\n",
       "      <th>fare</th>\n",
       "    </tr>\n",
       "  </thead>\n",
       "  <tbody>\n",
       "    <tr>\n",
       "      <th>count</th>\n",
       "      <td>891.000000</td>\n",
       "      <td>891.000000</td>\n",
       "      <td>891.000000</td>\n",
       "      <td>714.000000</td>\n",
       "      <td>891.000000</td>\n",
       "      <td>891.000000</td>\n",
       "      <td>891.000000</td>\n",
       "    </tr>\n",
       "    <tr>\n",
       "      <th>mean</th>\n",
       "      <td>446.000000</td>\n",
       "      <td>0.383838</td>\n",
       "      <td>2.308642</td>\n",
       "      <td>29.699118</td>\n",
       "      <td>0.523008</td>\n",
       "      <td>0.381594</td>\n",
       "      <td>32.204208</td>\n",
       "    </tr>\n",
       "    <tr>\n",
       "      <th>std</th>\n",
       "      <td>257.353842</td>\n",
       "      <td>0.486592</td>\n",
       "      <td>0.836071</td>\n",
       "      <td>14.526497</td>\n",
       "      <td>1.102743</td>\n",
       "      <td>0.806057</td>\n",
       "      <td>49.693429</td>\n",
       "    </tr>\n",
       "    <tr>\n",
       "      <th>min</th>\n",
       "      <td>1.000000</td>\n",
       "      <td>0.000000</td>\n",
       "      <td>1.000000</td>\n",
       "      <td>0.420000</td>\n",
       "      <td>0.000000</td>\n",
       "      <td>0.000000</td>\n",
       "      <td>0.000000</td>\n",
       "    </tr>\n",
       "    <tr>\n",
       "      <th>25%</th>\n",
       "      <td>223.500000</td>\n",
       "      <td>0.000000</td>\n",
       "      <td>2.000000</td>\n",
       "      <td>20.125000</td>\n",
       "      <td>0.000000</td>\n",
       "      <td>0.000000</td>\n",
       "      <td>7.910400</td>\n",
       "    </tr>\n",
       "    <tr>\n",
       "      <th>50%</th>\n",
       "      <td>446.000000</td>\n",
       "      <td>0.000000</td>\n",
       "      <td>3.000000</td>\n",
       "      <td>28.000000</td>\n",
       "      <td>0.000000</td>\n",
       "      <td>0.000000</td>\n",
       "      <td>14.454200</td>\n",
       "    </tr>\n",
       "    <tr>\n",
       "      <th>75%</th>\n",
       "      <td>668.500000</td>\n",
       "      <td>1.000000</td>\n",
       "      <td>3.000000</td>\n",
       "      <td>38.000000</td>\n",
       "      <td>1.000000</td>\n",
       "      <td>0.000000</td>\n",
       "      <td>31.000000</td>\n",
       "    </tr>\n",
       "    <tr>\n",
       "      <th>max</th>\n",
       "      <td>891.000000</td>\n",
       "      <td>1.000000</td>\n",
       "      <td>3.000000</td>\n",
       "      <td>80.000000</td>\n",
       "      <td>8.000000</td>\n",
       "      <td>6.000000</td>\n",
       "      <td>512.329200</td>\n",
       "    </tr>\n",
       "  </tbody>\n",
       "</table>\n",
       "</div>"
      ],
      "text/plain": [
       "       passengerid    survived      pclass         age       sibsp  \\\n",
       "count   891.000000  891.000000  891.000000  714.000000  891.000000   \n",
       "mean    446.000000    0.383838    2.308642   29.699118    0.523008   \n",
       "std     257.353842    0.486592    0.836071   14.526497    1.102743   \n",
       "min       1.000000    0.000000    1.000000    0.420000    0.000000   \n",
       "25%     223.500000    0.000000    2.000000   20.125000    0.000000   \n",
       "50%     446.000000    0.000000    3.000000   28.000000    0.000000   \n",
       "75%     668.500000    1.000000    3.000000   38.000000    1.000000   \n",
       "max     891.000000    1.000000    3.000000   80.000000    8.000000   \n",
       "\n",
       "            parch        fare  \n",
       "count  891.000000  891.000000  \n",
       "mean     0.381594   32.204208  \n",
       "std      0.806057   49.693429  \n",
       "min      0.000000    0.000000  \n",
       "25%      0.000000    7.910400  \n",
       "50%      0.000000   14.454200  \n",
       "75%      0.000000   31.000000  \n",
       "max      6.000000  512.329200  "
      ]
     },
     "execution_count": 7,
     "metadata": {},
     "output_type": "execute_result"
    }
   ],
   "source": [
    "data.describe()"
   ]
  },
  {
   "cell_type": "markdown",
   "metadata": {},
   "source": [
    "# Feature Engineering\n",
    "Recall from the last notebook, there we used a method to see the correlation between two different features, specifically to see how predictive certain features were for predicting survival. To take advantage of this, we'll create some new features for predicting instead:"
   ]
  },
  {
   "cell_type": "code",
   "execution_count": 8,
   "metadata": {},
   "outputs": [
    {
     "data": {
      "image/png": "[encoded data removed]",
      "text/plain": [
       "<Figure size 504x504 with 2 Axes>"
      ]
     },
     "metadata": {
      "needs_background": "light"
     },
     "output_type": "display_data"
    }
   ],
   "source": [
    "# https://seaborn.pydata.org/examples/many_pairwise_correlations.html\n",
    "data_no_pid = data.drop(columns=\"passengerid\")\n",
    "data_corr = data_no_pid.corr()\n",
    "mask = np.triu(np.ones_like(data_corr, dtype=bool))\n",
    "palette = sns.diverging_palette(240, 10, n=9)\n",
    "\n",
    "plt.figure(figsize=(7,7))\n",
    "sns.heatmap(data_corr, mask=mask, center=0,\n",
    "            square=True, cmap=palette, annot=True)\n",
    "plt.show()"
   ]
  },
  {
   "cell_type": "markdown",
   "metadata": {},
   "source": [
    "## Creating new features\n",
    "We'll start by modifying the `cabin` feature, as we only really care about the letter rather than the number that follows. By doing this, we also make this feature more useful for classification as we've created another feature to predict on"
   ]
  },
  {
   "cell_type": "code",
   "execution_count": 9,
   "metadata": {},
   "outputs": [
    {
     "data": {
      "text/html": [
       "<div>\n",
       "<style scoped>\n",
       "    .dataframe tbody tr th:only-of-type {\n",
       "        vertical-align: middle;\n",
       "    }\n",
       "\n",
       "    .dataframe tbody tr th {\n",
       "        vertical-align: top;\n",
       "    }\n",
       "\n",
       "    .dataframe thead th {\n",
       "        text-align: right;\n",
       "    }\n",
       "</style>\n",
       "<table border=\"1\" class=\"dataframe\">\n",
       "  <thead>\n",
       "    <tr style=\"text-align: right;\">\n",
       "      <th></th>\n",
       "      <th>passengerid</th>\n",
       "      <th>survived</th>\n",
       "      <th>pclass</th>\n",
       "      <th>name</th>\n",
       "      <th>sex</th>\n",
       "      <th>age</th>\n",
       "      <th>sibsp</th>\n",
       "      <th>parch</th>\n",
       "      <th>ticket</th>\n",
       "      <th>fare</th>\n",
       "      <th>cabin</th>\n",
       "      <th>embarked</th>\n",
       "    </tr>\n",
       "  </thead>\n",
       "  <tbody>\n",
       "    <tr>\n",
       "      <th>0</th>\n",
       "      <td>1</td>\n",
       "      <td>0</td>\n",
       "      <td>3</td>\n",
       "      <td>Braund, Mr. Owen Harris</td>\n",
       "      <td>male</td>\n",
       "      <td>22.0</td>\n",
       "      <td>1</td>\n",
       "      <td>0</td>\n",
       "      <td>A/5 21171</td>\n",
       "      <td>7.2500</td>\n",
       "      <td>X</td>\n",
       "      <td>S</td>\n",
       "    </tr>\n",
       "    <tr>\n",
       "      <th>1</th>\n",
       "      <td>2</td>\n",
       "      <td>1</td>\n",
       "      <td>1</td>\n",
       "      <td>Cumings, Mrs. John Bradley (Florence Briggs Th...</td>\n",
       "      <td>female</td>\n",
       "      <td>38.0</td>\n",
       "      <td>1</td>\n",
       "      <td>0</td>\n",
       "      <td>PC 17599</td>\n",
       "      <td>71.2833</td>\n",
       "      <td>C</td>\n",
       "      <td>C</td>\n",
       "    </tr>\n",
       "    <tr>\n",
       "      <th>2</th>\n",
       "      <td>3</td>\n",
       "      <td>1</td>\n",
       "      <td>3</td>\n",
       "      <td>Heikkinen, Miss. Laina</td>\n",
       "      <td>female</td>\n",
       "      <td>26.0</td>\n",
       "      <td>0</td>\n",
       "      <td>0</td>\n",
       "      <td>STON/O2. 3101282</td>\n",
       "      <td>7.9250</td>\n",
       "      <td>X</td>\n",
       "      <td>S</td>\n",
       "    </tr>\n",
       "    <tr>\n",
       "      <th>3</th>\n",
       "      <td>4</td>\n",
       "      <td>1</td>\n",
       "      <td>1</td>\n",
       "      <td>Futrelle, Mrs. Jacques Heath (Lily May Peel)</td>\n",
       "      <td>female</td>\n",
       "      <td>35.0</td>\n",
       "      <td>1</td>\n",
       "      <td>0</td>\n",
       "      <td>113803</td>\n",
       "      <td>53.1000</td>\n",
       "      <td>C</td>\n",
       "      <td>S</td>\n",
       "    </tr>\n",
       "    <tr>\n",
       "      <th>4</th>\n",
       "      <td>5</td>\n",
       "      <td>0</td>\n",
       "      <td>3</td>\n",
       "      <td>Allen, Mr. William Henry</td>\n",
       "      <td>male</td>\n",
       "      <td>35.0</td>\n",
       "      <td>0</td>\n",
       "      <td>0</td>\n",
       "      <td>373450</td>\n",
       "      <td>8.0500</td>\n",
       "      <td>X</td>\n",
       "      <td>S</td>\n",
       "    </tr>\n",
       "  </tbody>\n",
       "</table>\n",
       "</div>"
      ],
      "text/plain": [
       "   passengerid  survived  pclass  \\\n",
       "0            1         0       3   \n",
       "1            2         1       1   \n",
       "2            3         1       3   \n",
       "3            4         1       1   \n",
       "4            5         0       3   \n",
       "\n",
       "                                                name     sex   age  sibsp  \\\n",
       "0                            Braund, Mr. Owen Harris    male  22.0      1   \n",
       "1  Cumings, Mrs. John Bradley (Florence Briggs Th...  female  38.0      1   \n",
       "2                             Heikkinen, Miss. Laina  female  26.0      0   \n",
       "3       Futrelle, Mrs. Jacques Heath (Lily May Peel)  female  35.0      1   \n",
       "4                           Allen, Mr. William Henry    male  35.0      0   \n",
       "\n",
       "   parch            ticket     fare cabin embarked  \n",
       "0      0         A/5 21171   7.2500     X        S  \n",
       "1      0          PC 17599  71.2833     C        C  \n",
       "2      0  STON/O2. 3101282   7.9250     X        S  \n",
       "3      0            113803  53.1000     C        S  \n",
       "4      0            373450   8.0500     X        S  "
      ]
     },
     "execution_count": 9,
     "metadata": {},
     "output_type": "execute_result"
    }
   ],
   "source": [
    "# retain only the first cabin if more than\n",
    "# 1 are available per passenger\n",
    "def get_first_cabin(row):\n",
    "    try:\n",
    "        return row.split()[0]\n",
    "    except:\n",
    "        return np.nan\n",
    "    \n",
    "data['cabin'] = data['cabin'].apply(get_first_cabin)\n",
    "data['cabin'] = pd.Series(['X' if pd.isnull(ii) else ii[0] for ii in data['cabin']])\n",
    "data.head()"
   ]
  },
  {
   "cell_type": "code",
   "execution_count": 10,
   "metadata": {},
   "outputs": [
    {
     "data": {
      "text/plain": [
       "array(['X', 'C', 'E', 'G', 'D', 'A', 'B', 'F', 'T'], dtype=object)"
      ]
     },
     "execution_count": 10,
     "metadata": {},
     "output_type": "execute_result"
    }
   ],
   "source": [
    "data[\"cabin\"].unique()"
   ]
  },
  {
   "cell_type": "markdown",
   "metadata": {},
   "source": [
    "We'll also go ahead and impute the median here. There is a later step that does this, however we'll need all of the values to be able to create our next feature:"
   ]
  },
  {
   "cell_type": "code",
   "execution_count": 11,
   "metadata": {},
   "outputs": [
    {
     "data": {
      "text/html": [
       "<div>\n",
       "<style scoped>\n",
       "    .dataframe tbody tr th:only-of-type {\n",
       "        vertical-align: middle;\n",
       "    }\n",
       "\n",
       "    .dataframe tbody tr th {\n",
       "        vertical-align: top;\n",
       "    }\n",
       "\n",
       "    .dataframe thead th {\n",
       "        text-align: right;\n",
       "    }\n",
       "</style>\n",
       "<table border=\"1\" class=\"dataframe\">\n",
       "  <thead>\n",
       "    <tr style=\"text-align: right;\">\n",
       "      <th></th>\n",
       "      <th>passengerid</th>\n",
       "      <th>survived</th>\n",
       "      <th>pclass</th>\n",
       "      <th>age</th>\n",
       "      <th>sibsp</th>\n",
       "      <th>parch</th>\n",
       "      <th>fare</th>\n",
       "    </tr>\n",
       "  </thead>\n",
       "  <tbody>\n",
       "    <tr>\n",
       "      <th>count</th>\n",
       "      <td>891.000000</td>\n",
       "      <td>891.000000</td>\n",
       "      <td>891.000000</td>\n",
       "      <td>891.000000</td>\n",
       "      <td>891.000000</td>\n",
       "      <td>891.000000</td>\n",
       "      <td>891.000000</td>\n",
       "    </tr>\n",
       "    <tr>\n",
       "      <th>mean</th>\n",
       "      <td>446.000000</td>\n",
       "      <td>0.383838</td>\n",
       "      <td>2.308642</td>\n",
       "      <td>29.361582</td>\n",
       "      <td>0.523008</td>\n",
       "      <td>0.381594</td>\n",
       "      <td>32.204208</td>\n",
       "    </tr>\n",
       "    <tr>\n",
       "      <th>std</th>\n",
       "      <td>257.353842</td>\n",
       "      <td>0.486592</td>\n",
       "      <td>0.836071</td>\n",
       "      <td>13.019697</td>\n",
       "      <td>1.102743</td>\n",
       "      <td>0.806057</td>\n",
       "      <td>49.693429</td>\n",
       "    </tr>\n",
       "    <tr>\n",
       "      <th>min</th>\n",
       "      <td>1.000000</td>\n",
       "      <td>0.000000</td>\n",
       "      <td>1.000000</td>\n",
       "      <td>0.420000</td>\n",
       "      <td>0.000000</td>\n",
       "      <td>0.000000</td>\n",
       "      <td>0.000000</td>\n",
       "    </tr>\n",
       "    <tr>\n",
       "      <th>25%</th>\n",
       "      <td>223.500000</td>\n",
       "      <td>0.000000</td>\n",
       "      <td>2.000000</td>\n",
       "      <td>22.000000</td>\n",
       "      <td>0.000000</td>\n",
       "      <td>0.000000</td>\n",
       "      <td>7.910400</td>\n",
       "    </tr>\n",
       "    <tr>\n",
       "      <th>50%</th>\n",
       "      <td>446.000000</td>\n",
       "      <td>0.000000</td>\n",
       "      <td>3.000000</td>\n",
       "      <td>28.000000</td>\n",
       "      <td>0.000000</td>\n",
       "      <td>0.000000</td>\n",
       "      <td>14.454200</td>\n",
       "    </tr>\n",
       "    <tr>\n",
       "      <th>75%</th>\n",
       "      <td>668.500000</td>\n",
       "      <td>1.000000</td>\n",
       "      <td>3.000000</td>\n",
       "      <td>35.000000</td>\n",
       "      <td>1.000000</td>\n",
       "      <td>0.000000</td>\n",
       "      <td>31.000000</td>\n",
       "    </tr>\n",
       "    <tr>\n",
       "      <th>max</th>\n",
       "      <td>891.000000</td>\n",
       "      <td>1.000000</td>\n",
       "      <td>3.000000</td>\n",
       "      <td>80.000000</td>\n",
       "      <td>8.000000</td>\n",
       "      <td>6.000000</td>\n",
       "      <td>512.329200</td>\n",
       "    </tr>\n",
       "  </tbody>\n",
       "</table>\n",
       "</div>"
      ],
      "text/plain": [
       "       passengerid    survived      pclass         age       sibsp  \\\n",
       "count   891.000000  891.000000  891.000000  891.000000  891.000000   \n",
       "mean    446.000000    0.383838    2.308642   29.361582    0.523008   \n",
       "std     257.353842    0.486592    0.836071   13.019697    1.102743   \n",
       "min       1.000000    0.000000    1.000000    0.420000    0.000000   \n",
       "25%     223.500000    0.000000    2.000000   22.000000    0.000000   \n",
       "50%     446.000000    0.000000    3.000000   28.000000    0.000000   \n",
       "75%     668.500000    1.000000    3.000000   35.000000    1.000000   \n",
       "max     891.000000    1.000000    3.000000   80.000000    8.000000   \n",
       "\n",
       "            parch        fare  \n",
       "count  891.000000  891.000000  \n",
       "mean     0.381594   32.204208  \n",
       "std      0.806057   49.693429  \n",
       "min      0.000000    0.000000  \n",
       "25%      0.000000    7.910400  \n",
       "50%      0.000000   14.454200  \n",
       "75%      0.000000   31.000000  \n",
       "max      6.000000  512.329200  "
      ]
     },
     "execution_count": 11,
     "metadata": {},
     "output_type": "execute_result"
    }
   ],
   "source": [
    "data[\"age\"] = data[\"age\"].replace(np.nan, data[\"age\"].median())\n",
    "data.describe()"
   ]
  },
  {
   "cell_type": "markdown",
   "metadata": {},
   "source": [
    "We'll now create a new feature called `agegroup`. This will transform the `age` column from a numerical data point to a categorical one, which may be more useful for training:"
   ]
  },
  {
   "cell_type": "code",
   "execution_count": 12,
   "metadata": {},
   "outputs": [
    {
     "data": {
      "text/html": [
       "<div>\n",
       "<style scoped>\n",
       "    .dataframe tbody tr th:only-of-type {\n",
       "        vertical-align: middle;\n",
       "    }\n",
       "\n",
       "    .dataframe tbody tr th {\n",
       "        vertical-align: top;\n",
       "    }\n",
       "\n",
       "    .dataframe thead th {\n",
       "        text-align: right;\n",
       "    }\n",
       "</style>\n",
       "<table border=\"1\" class=\"dataframe\">\n",
       "  <thead>\n",
       "    <tr style=\"text-align: right;\">\n",
       "      <th></th>\n",
       "      <th>passengerid</th>\n",
       "      <th>survived</th>\n",
       "      <th>pclass</th>\n",
       "      <th>name</th>\n",
       "      <th>sex</th>\n",
       "      <th>age</th>\n",
       "      <th>sibsp</th>\n",
       "      <th>parch</th>\n",
       "      <th>ticket</th>\n",
       "      <th>fare</th>\n",
       "      <th>cabin</th>\n",
       "      <th>embarked</th>\n",
       "      <th>agegroup</th>\n",
       "    </tr>\n",
       "  </thead>\n",
       "  <tbody>\n",
       "    <tr>\n",
       "      <th>0</th>\n",
       "      <td>1</td>\n",
       "      <td>0</td>\n",
       "      <td>3</td>\n",
       "      <td>Braund, Mr. Owen Harris</td>\n",
       "      <td>male</td>\n",
       "      <td>22.0</td>\n",
       "      <td>1</td>\n",
       "      <td>0</td>\n",
       "      <td>A/5 21171</td>\n",
       "      <td>7.2500</td>\n",
       "      <td>X</td>\n",
       "      <td>S</td>\n",
       "      <td>1</td>\n",
       "    </tr>\n",
       "    <tr>\n",
       "      <th>1</th>\n",
       "      <td>2</td>\n",
       "      <td>1</td>\n",
       "      <td>1</td>\n",
       "      <td>Cumings, Mrs. John Bradley (Florence Briggs Th...</td>\n",
       "      <td>female</td>\n",
       "      <td>38.0</td>\n",
       "      <td>1</td>\n",
       "      <td>0</td>\n",
       "      <td>PC 17599</td>\n",
       "      <td>71.2833</td>\n",
       "      <td>C</td>\n",
       "      <td>C</td>\n",
       "      <td>4</td>\n",
       "    </tr>\n",
       "    <tr>\n",
       "      <th>2</th>\n",
       "      <td>3</td>\n",
       "      <td>1</td>\n",
       "      <td>3</td>\n",
       "      <td>Heikkinen, Miss. Laina</td>\n",
       "      <td>female</td>\n",
       "      <td>26.0</td>\n",
       "      <td>0</td>\n",
       "      <td>0</td>\n",
       "      <td>STON/O2. 3101282</td>\n",
       "      <td>7.9250</td>\n",
       "      <td>X</td>\n",
       "      <td>S</td>\n",
       "      <td>2</td>\n",
       "    </tr>\n",
       "    <tr>\n",
       "      <th>3</th>\n",
       "      <td>4</td>\n",
       "      <td>1</td>\n",
       "      <td>1</td>\n",
       "      <td>Futrelle, Mrs. Jacques Heath (Lily May Peel)</td>\n",
       "      <td>female</td>\n",
       "      <td>35.0</td>\n",
       "      <td>1</td>\n",
       "      <td>0</td>\n",
       "      <td>113803</td>\n",
       "      <td>53.1000</td>\n",
       "      <td>C</td>\n",
       "      <td>S</td>\n",
       "      <td>4</td>\n",
       "    </tr>\n",
       "    <tr>\n",
       "      <th>4</th>\n",
       "      <td>5</td>\n",
       "      <td>0</td>\n",
       "      <td>3</td>\n",
       "      <td>Allen, Mr. William Henry</td>\n",
       "      <td>male</td>\n",
       "      <td>35.0</td>\n",
       "      <td>0</td>\n",
       "      <td>0</td>\n",
       "      <td>373450</td>\n",
       "      <td>8.0500</td>\n",
       "      <td>X</td>\n",
       "      <td>S</td>\n",
       "      <td>4</td>\n",
       "    </tr>\n",
       "  </tbody>\n",
       "</table>\n",
       "</div>"
      ],
      "text/plain": [
       "   passengerid  survived  pclass  \\\n",
       "0            1         0       3   \n",
       "1            2         1       1   \n",
       "2            3         1       3   \n",
       "3            4         1       1   \n",
       "4            5         0       3   \n",
       "\n",
       "                                                name     sex   age  sibsp  \\\n",
       "0                            Braund, Mr. Owen Harris    male  22.0      1   \n",
       "1  Cumings, Mrs. John Bradley (Florence Briggs Th...  female  38.0      1   \n",
       "2                             Heikkinen, Miss. Laina  female  26.0      0   \n",
       "3       Futrelle, Mrs. Jacques Heath (Lily May Peel)  female  35.0      1   \n",
       "4                           Allen, Mr. William Henry    male  35.0      0   \n",
       "\n",
       "   parch            ticket     fare cabin embarked  agegroup  \n",
       "0      0         A/5 21171   7.2500     X        S         1  \n",
       "1      0          PC 17599  71.2833     C        C         4  \n",
       "2      0  STON/O2. 3101282   7.9250     X        S         2  \n",
       "3      0            113803  53.1000     C        S         4  \n",
       "4      0            373450   8.0500     X        S         4  "
      ]
     },
     "execution_count": 12,
     "metadata": {},
     "output_type": "execute_result"
    }
   ],
   "source": [
    "# https://towardsdatascience.com/predicting-the-survival-of-titanic-passengers-30870ccc7e8\n",
    "def create_age_group(age):\n",
    "    if age > 66:\n",
    "        return 6\n",
    "    elif age > 40:\n",
    "        return 5\n",
    "    elif age > 33:\n",
    "        return 4\n",
    "    elif age > 27:\n",
    "        return 3\n",
    "    elif age > 22:\n",
    "        return 2\n",
    "    elif age > 18:\n",
    "        return 1\n",
    "    else:\n",
    "        return 0\n",
    "\n",
    "data['agegroup'] = data['age'].apply(create_age_group)\n",
    "data.head()"
   ]
  },
  {
   "cell_type": "markdown",
   "metadata": {},
   "source": [
    "Now, we'll create another a `single` feature, which represents whether or not a particular passenger was the only person on board, or if they had other family members. The idea behind this feature is that if a passenger has family members on board, they may be more likely to be able to board a boat. We do this by adding up the number of siblings and parents of each passenger and creating a binary boolean representing whether the passenger was traveling alone or not"
   ]
  },
  {
   "cell_type": "code",
   "execution_count": 13,
   "metadata": {},
   "outputs": [
    {
     "data": {
      "text/html": [
       "<div>\n",
       "<style scoped>\n",
       "    .dataframe tbody tr th:only-of-type {\n",
       "        vertical-align: middle;\n",
       "    }\n",
       "\n",
       "    .dataframe tbody tr th {\n",
       "        vertical-align: top;\n",
       "    }\n",
       "\n",
       "    .dataframe thead th {\n",
       "        text-align: right;\n",
       "    }\n",
       "</style>\n",
       "<table border=\"1\" class=\"dataframe\">\n",
       "  <thead>\n",
       "    <tr style=\"text-align: right;\">\n",
       "      <th></th>\n",
       "      <th>passengerid</th>\n",
       "      <th>survived</th>\n",
       "      <th>pclass</th>\n",
       "      <th>name</th>\n",
       "      <th>sex</th>\n",
       "      <th>age</th>\n",
       "      <th>sibsp</th>\n",
       "      <th>parch</th>\n",
       "      <th>ticket</th>\n",
       "      <th>fare</th>\n",
       "      <th>cabin</th>\n",
       "      <th>embarked</th>\n",
       "      <th>agegroup</th>\n",
       "      <th>single</th>\n",
       "    </tr>\n",
       "  </thead>\n",
       "  <tbody>\n",
       "    <tr>\n",
       "      <th>0</th>\n",
       "      <td>1</td>\n",
       "      <td>0</td>\n",
       "      <td>3</td>\n",
       "      <td>Braund, Mr. Owen Harris</td>\n",
       "      <td>male</td>\n",
       "      <td>22.0</td>\n",
       "      <td>1</td>\n",
       "      <td>0</td>\n",
       "      <td>A/5 21171</td>\n",
       "      <td>7.2500</td>\n",
       "      <td>X</td>\n",
       "      <td>S</td>\n",
       "      <td>1</td>\n",
       "      <td>0</td>\n",
       "    </tr>\n",
       "    <tr>\n",
       "      <th>1</th>\n",
       "      <td>2</td>\n",
       "      <td>1</td>\n",
       "      <td>1</td>\n",
       "      <td>Cumings, Mrs. John Bradley (Florence Briggs Th...</td>\n",
       "      <td>female</td>\n",
       "      <td>38.0</td>\n",
       "      <td>1</td>\n",
       "      <td>0</td>\n",
       "      <td>PC 17599</td>\n",
       "      <td>71.2833</td>\n",
       "      <td>C</td>\n",
       "      <td>C</td>\n",
       "      <td>4</td>\n",
       "      <td>0</td>\n",
       "    </tr>\n",
       "    <tr>\n",
       "      <th>2</th>\n",
       "      <td>3</td>\n",
       "      <td>1</td>\n",
       "      <td>3</td>\n",
       "      <td>Heikkinen, Miss. Laina</td>\n",
       "      <td>female</td>\n",
       "      <td>26.0</td>\n",
       "      <td>0</td>\n",
       "      <td>0</td>\n",
       "      <td>STON/O2. 3101282</td>\n",
       "      <td>7.9250</td>\n",
       "      <td>X</td>\n",
       "      <td>S</td>\n",
       "      <td>2</td>\n",
       "      <td>0</td>\n",
       "    </tr>\n",
       "    <tr>\n",
       "      <th>3</th>\n",
       "      <td>4</td>\n",
       "      <td>1</td>\n",
       "      <td>1</td>\n",
       "      <td>Futrelle, Mrs. Jacques Heath (Lily May Peel)</td>\n",
       "      <td>female</td>\n",
       "      <td>35.0</td>\n",
       "      <td>1</td>\n",
       "      <td>0</td>\n",
       "      <td>113803</td>\n",
       "      <td>53.1000</td>\n",
       "      <td>C</td>\n",
       "      <td>S</td>\n",
       "      <td>4</td>\n",
       "      <td>0</td>\n",
       "    </tr>\n",
       "    <tr>\n",
       "      <th>4</th>\n",
       "      <td>5</td>\n",
       "      <td>0</td>\n",
       "      <td>3</td>\n",
       "      <td>Allen, Mr. William Henry</td>\n",
       "      <td>male</td>\n",
       "      <td>35.0</td>\n",
       "      <td>0</td>\n",
       "      <td>0</td>\n",
       "      <td>373450</td>\n",
       "      <td>8.0500</td>\n",
       "      <td>X</td>\n",
       "      <td>S</td>\n",
       "      <td>4</td>\n",
       "      <td>0</td>\n",
       "    </tr>\n",
       "  </tbody>\n",
       "</table>\n",
       "</div>"
      ],
      "text/plain": [
       "   passengerid  survived  pclass  \\\n",
       "0            1         0       3   \n",
       "1            2         1       1   \n",
       "2            3         1       3   \n",
       "3            4         1       1   \n",
       "4            5         0       3   \n",
       "\n",
       "                                                name     sex   age  sibsp  \\\n",
       "0                            Braund, Mr. Owen Harris    male  22.0      1   \n",
       "1  Cumings, Mrs. John Bradley (Florence Briggs Th...  female  38.0      1   \n",
       "2                             Heikkinen, Miss. Laina  female  26.0      0   \n",
       "3       Futrelle, Mrs. Jacques Heath (Lily May Peel)  female  35.0      1   \n",
       "4                           Allen, Mr. William Henry    male  35.0      0   \n",
       "\n",
       "   parch            ticket     fare cabin embarked  agegroup  single  \n",
       "0      0         A/5 21171   7.2500     X        S         1       0  \n",
       "1      0          PC 17599  71.2833     C        C         4       0  \n",
       "2      0  STON/O2. 3101282   7.9250     X        S         2       0  \n",
       "3      0            113803  53.1000     C        S         4       0  \n",
       "4      0            373450   8.0500     X        S         4       0  "
      ]
     },
     "execution_count": 13,
     "metadata": {},
     "output_type": "execute_result"
    }
   ],
   "source": [
    "data[\"relatives\"] = data['sibsp'] + data[\"parch\"]\n",
    "def create_is_single():\n",
    "    if data[\"relatives\"] > 0:\n",
    "        return 0\n",
    "    else:\n",
    "        return 1\n",
    "    \n",
    "data['single'] = data[\"relatives\"].apply(create_age_group)\n",
    "data = data.drop([\"relatives\"], axis=1)\n",
    "data.head()"
   ]
  },
  {
   "cell_type": "markdown",
   "metadata": {},
   "source": [
    "Another feature we'll create is a `title` feature, as they may indicate socioeconomic class standing and thus may influence a passenger's likelihood of surviving"
   ]
  },
  {
   "cell_type": "code",
   "execution_count": 14,
   "metadata": {},
   "outputs": [
    {
     "data": {
      "text/html": [
       "<div>\n",
       "<style scoped>\n",
       "    .dataframe tbody tr th:only-of-type {\n",
       "        vertical-align: middle;\n",
       "    }\n",
       "\n",
       "    .dataframe tbody tr th {\n",
       "        vertical-align: top;\n",
       "    }\n",
       "\n",
       "    .dataframe thead th {\n",
       "        text-align: right;\n",
       "    }\n",
       "</style>\n",
       "<table border=\"1\" class=\"dataframe\">\n",
       "  <thead>\n",
       "    <tr style=\"text-align: right;\">\n",
       "      <th></th>\n",
       "      <th>passengerid</th>\n",
       "      <th>survived</th>\n",
       "      <th>pclass</th>\n",
       "      <th>name</th>\n",
       "      <th>sex</th>\n",
       "      <th>age</th>\n",
       "      <th>sibsp</th>\n",
       "      <th>parch</th>\n",
       "      <th>ticket</th>\n",
       "      <th>fare</th>\n",
       "      <th>cabin</th>\n",
       "      <th>embarked</th>\n",
       "      <th>agegroup</th>\n",
       "      <th>single</th>\n",
       "      <th>title</th>\n",
       "    </tr>\n",
       "  </thead>\n",
       "  <tbody>\n",
       "    <tr>\n",
       "      <th>0</th>\n",
       "      <td>1</td>\n",
       "      <td>0</td>\n",
       "      <td>3</td>\n",
       "      <td>Braund, Mr. Owen Harris</td>\n",
       "      <td>male</td>\n",
       "      <td>22.0</td>\n",
       "      <td>1</td>\n",
       "      <td>0</td>\n",
       "      <td>A/5 21171</td>\n",
       "      <td>7.2500</td>\n",
       "      <td>X</td>\n",
       "      <td>S</td>\n",
       "      <td>1</td>\n",
       "      <td>0</td>\n",
       "      <td>Mr</td>\n",
       "    </tr>\n",
       "    <tr>\n",
       "      <th>1</th>\n",
       "      <td>2</td>\n",
       "      <td>1</td>\n",
       "      <td>1</td>\n",
       "      <td>Cumings, Mrs. John Bradley (Florence Briggs Th...</td>\n",
       "      <td>female</td>\n",
       "      <td>38.0</td>\n",
       "      <td>1</td>\n",
       "      <td>0</td>\n",
       "      <td>PC 17599</td>\n",
       "      <td>71.2833</td>\n",
       "      <td>C</td>\n",
       "      <td>C</td>\n",
       "      <td>4</td>\n",
       "      <td>0</td>\n",
       "      <td>Mrs</td>\n",
       "    </tr>\n",
       "    <tr>\n",
       "      <th>2</th>\n",
       "      <td>3</td>\n",
       "      <td>1</td>\n",
       "      <td>3</td>\n",
       "      <td>Heikkinen, Miss. Laina</td>\n",
       "      <td>female</td>\n",
       "      <td>26.0</td>\n",
       "      <td>0</td>\n",
       "      <td>0</td>\n",
       "      <td>STON/O2. 3101282</td>\n",
       "      <td>7.9250</td>\n",
       "      <td>X</td>\n",
       "      <td>S</td>\n",
       "      <td>2</td>\n",
       "      <td>0</td>\n",
       "      <td>Miss</td>\n",
       "    </tr>\n",
       "    <tr>\n",
       "      <th>3</th>\n",
       "      <td>4</td>\n",
       "      <td>1</td>\n",
       "      <td>1</td>\n",
       "      <td>Futrelle, Mrs. Jacques Heath (Lily May Peel)</td>\n",
       "      <td>female</td>\n",
       "      <td>35.0</td>\n",
       "      <td>1</td>\n",
       "      <td>0</td>\n",
       "      <td>113803</td>\n",
       "      <td>53.1000</td>\n",
       "      <td>C</td>\n",
       "      <td>S</td>\n",
       "      <td>4</td>\n",
       "      <td>0</td>\n",
       "      <td>Mrs</td>\n",
       "    </tr>\n",
       "    <tr>\n",
       "      <th>4</th>\n",
       "      <td>5</td>\n",
       "      <td>0</td>\n",
       "      <td>3</td>\n",
       "      <td>Allen, Mr. William Henry</td>\n",
       "      <td>male</td>\n",
       "      <td>35.0</td>\n",
       "      <td>0</td>\n",
       "      <td>0</td>\n",
       "      <td>373450</td>\n",
       "      <td>8.0500</td>\n",
       "      <td>X</td>\n",
       "      <td>S</td>\n",
       "      <td>4</td>\n",
       "      <td>0</td>\n",
       "      <td>Mr</td>\n",
       "    </tr>\n",
       "  </tbody>\n",
       "</table>\n",
       "</div>"
      ],
      "text/plain": [
       "   passengerid  survived  pclass  \\\n",
       "0            1         0       3   \n",
       "1            2         1       1   \n",
       "2            3         1       3   \n",
       "3            4         1       1   \n",
       "4            5         0       3   \n",
       "\n",
       "                                                name     sex   age  sibsp  \\\n",
       "0                            Braund, Mr. Owen Harris    male  22.0      1   \n",
       "1  Cumings, Mrs. John Bradley (Florence Briggs Th...  female  38.0      1   \n",
       "2                             Heikkinen, Miss. Laina  female  26.0      0   \n",
       "3       Futrelle, Mrs. Jacques Heath (Lily May Peel)  female  35.0      1   \n",
       "4                           Allen, Mr. William Henry    male  35.0      0   \n",
       "\n",
       "   parch            ticket     fare cabin embarked  agegroup  single title  \n",
       "0      0         A/5 21171   7.2500     X        S         1       0    Mr  \n",
       "1      0          PC 17599  71.2833     C        C         4       0   Mrs  \n",
       "2      0  STON/O2. 3101282   7.9250     X        S         2       0  Miss  \n",
       "3      0            113803  53.1000     C        S         4       0   Mrs  \n",
       "4      0            373450   8.0500     X        S         4       0    Mr  "
      ]
     },
     "execution_count": 14,
     "metadata": {},
     "output_type": "execute_result"
    }
   ],
   "source": [
    "# extracts the title (Mr, Ms, etc) from the name variable\n",
    "def get_title(passenger):\n",
    "    line = passenger\n",
    "    if re.search('Mrs', line):\n",
    "        return 'Mrs'\n",
    "    elif re.search('Mr', line):\n",
    "        return 'Mr'\n",
    "    elif re.search('Miss', line):\n",
    "        return 'Miss'\n",
    "    elif re.search('Master', line):\n",
    "        return 'Master'\n",
    "    else:\n",
    "        return 'Other'\n",
    "    \n",
    "data['title'] = data['name'].apply(get_title)\n",
    "data.head()"
   ]
  },
  {
   "cell_type": "code",
   "execution_count": 15,
   "metadata": {},
   "outputs": [
    {
     "data": {
      "text/html": [
       "<div>\n",
       "<style scoped>\n",
       "    .dataframe tbody tr th:only-of-type {\n",
       "        vertical-align: middle;\n",
       "    }\n",
       "\n",
       "    .dataframe tbody tr th {\n",
       "        vertical-align: top;\n",
       "    }\n",
       "\n",
       "    .dataframe thead th {\n",
       "        text-align: right;\n",
       "    }\n",
       "</style>\n",
       "<table border=\"1\" class=\"dataframe\">\n",
       "  <thead>\n",
       "    <tr style=\"text-align: right;\">\n",
       "      <th></th>\n",
       "      <th>passengerid</th>\n",
       "      <th>survived</th>\n",
       "      <th>pclass</th>\n",
       "      <th>name</th>\n",
       "      <th>sex</th>\n",
       "      <th>age</th>\n",
       "      <th>sibsp</th>\n",
       "      <th>parch</th>\n",
       "      <th>ticket</th>\n",
       "      <th>fare</th>\n",
       "      <th>cabin</th>\n",
       "      <th>embarked</th>\n",
       "      <th>agegroup</th>\n",
       "      <th>single</th>\n",
       "      <th>title</th>\n",
       "    </tr>\n",
       "  </thead>\n",
       "  <tbody>\n",
       "    <tr>\n",
       "      <th>0</th>\n",
       "      <td>1</td>\n",
       "      <td>0</td>\n",
       "      <td>3</td>\n",
       "      <td>Braund, Mr. Owen Harris</td>\n",
       "      <td>male</td>\n",
       "      <td>22.0</td>\n",
       "      <td>1</td>\n",
       "      <td>0</td>\n",
       "      <td>A/5 21171</td>\n",
       "      <td>7.2500</td>\n",
       "      <td>X</td>\n",
       "      <td>S</td>\n",
       "      <td>1</td>\n",
       "      <td>0</td>\n",
       "      <td>Mr</td>\n",
       "    </tr>\n",
       "    <tr>\n",
       "      <th>1</th>\n",
       "      <td>2</td>\n",
       "      <td>1</td>\n",
       "      <td>1</td>\n",
       "      <td>Cumings, Mrs. John Bradley (Florence Briggs Th...</td>\n",
       "      <td>female</td>\n",
       "      <td>38.0</td>\n",
       "      <td>1</td>\n",
       "      <td>0</td>\n",
       "      <td>PC 17599</td>\n",
       "      <td>71.2833</td>\n",
       "      <td>C</td>\n",
       "      <td>C</td>\n",
       "      <td>4</td>\n",
       "      <td>0</td>\n",
       "      <td>Mrs</td>\n",
       "    </tr>\n",
       "    <tr>\n",
       "      <th>2</th>\n",
       "      <td>3</td>\n",
       "      <td>1</td>\n",
       "      <td>3</td>\n",
       "      <td>Heikkinen, Miss. Laina</td>\n",
       "      <td>female</td>\n",
       "      <td>26.0</td>\n",
       "      <td>0</td>\n",
       "      <td>0</td>\n",
       "      <td>STON/O2. 3101282</td>\n",
       "      <td>7.9250</td>\n",
       "      <td>X</td>\n",
       "      <td>S</td>\n",
       "      <td>2</td>\n",
       "      <td>0</td>\n",
       "      <td>Miss</td>\n",
       "    </tr>\n",
       "    <tr>\n",
       "      <th>3</th>\n",
       "      <td>4</td>\n",
       "      <td>1</td>\n",
       "      <td>1</td>\n",
       "      <td>Futrelle, Mrs. Jacques Heath (Lily May Peel)</td>\n",
       "      <td>female</td>\n",
       "      <td>35.0</td>\n",
       "      <td>1</td>\n",
       "      <td>0</td>\n",
       "      <td>113803</td>\n",
       "      <td>53.1000</td>\n",
       "      <td>C</td>\n",
       "      <td>S</td>\n",
       "      <td>4</td>\n",
       "      <td>0</td>\n",
       "      <td>Mrs</td>\n",
       "    </tr>\n",
       "    <tr>\n",
       "      <th>4</th>\n",
       "      <td>5</td>\n",
       "      <td>0</td>\n",
       "      <td>3</td>\n",
       "      <td>Allen, Mr. William Henry</td>\n",
       "      <td>male</td>\n",
       "      <td>35.0</td>\n",
       "      <td>0</td>\n",
       "      <td>0</td>\n",
       "      <td>373450</td>\n",
       "      <td>8.0500</td>\n",
       "      <td>X</td>\n",
       "      <td>S</td>\n",
       "      <td>4</td>\n",
       "      <td>0</td>\n",
       "      <td>Mr</td>\n",
       "    </tr>\n",
       "  </tbody>\n",
       "</table>\n",
       "</div>"
      ],
      "text/plain": [
       "   passengerid  survived  pclass  \\\n",
       "0            1         0       3   \n",
       "1            2         1       1   \n",
       "2            3         1       3   \n",
       "3            4         1       1   \n",
       "4            5         0       3   \n",
       "\n",
       "                                                name     sex   age  sibsp  \\\n",
       "0                            Braund, Mr. Owen Harris    male  22.0      1   \n",
       "1  Cumings, Mrs. John Bradley (Florence Briggs Th...  female  38.0      1   \n",
       "2                             Heikkinen, Miss. Laina  female  26.0      0   \n",
       "3       Futrelle, Mrs. Jacques Heath (Lily May Peel)  female  35.0      1   \n",
       "4                           Allen, Mr. William Henry    male  35.0      0   \n",
       "\n",
       "   parch            ticket     fare cabin embarked  agegroup  single title  \n",
       "0      0         A/5 21171   7.2500     X        S         1       0    Mr  \n",
       "1      0          PC 17599  71.2833     C        C         4       0   Mrs  \n",
       "2      0  STON/O2. 3101282   7.9250     X        S         2       0  Miss  \n",
       "3      0            113803  53.1000     C        S         4       0   Mrs  \n",
       "4      0            373450   8.0500     X        S         4       0    Mr  "
      ]
     },
     "execution_count": 15,
     "metadata": {},
     "output_type": "execute_result"
    }
   ],
   "source": [
    "data['embarked'].fillna(value='S', inplace=True)\n",
    "data.head()"
   ]
  },
  {
   "cell_type": "markdown",
   "metadata": {},
   "source": [
    "We'll now create a transformer for extracting the first letter from the cabin like we did earlier. This is done so that the step can be integrated into the pipeline itself, which will be explained in more detail in the next section"
   ]
  },
  {
   "cell_type": "code",
   "execution_count": 16,
   "metadata": {},
   "outputs": [],
   "source": [
    "class ExtractLetterTransformer(BaseEstimator, TransformerMixin):\n",
    "    # Extract fist letter of variable\n",
    "    def __init__(self, variables):\n",
    "        self.variables = variables\n",
    "\n",
    "    def fit(self, X, y=None):\n",
    "        # we need this step to fit the sklearn pipeline\n",
    "        return self\n",
    "\n",
    "    def transform(self, X):\n",
    "        # so that we do not over-write the original dataframe\n",
    "        X = X.copy()\n",
    "        \n",
    "        for feature in self.variables:\n",
    "            X[feature] = X[feature].str[0]\n",
    "\n",
    "        return X"
   ]
  },
  {
   "cell_type": "markdown",
   "metadata": {},
   "source": [
    "Now lets take one last look at our data and get ready for training!"
   ]
  },
  {
   "cell_type": "code",
   "execution_count": 17,
   "metadata": {},
   "outputs": [
    {
     "name": "stdout",
     "output_type": "stream",
     "text": [
      "<class 'pandas.core.frame.DataFrame'>\n",
      "RangeIndex: 891 entries, 0 to 890\n",
      "Data columns (total 12 columns):\n",
      " #   Column       Non-Null Count  Dtype  \n",
      "---  ------       --------------  -----  \n",
      " 0   passengerid  891 non-null    int64  \n",
      " 1   survived     891 non-null    int64  \n",
      " 2   pclass       891 non-null    int64  \n",
      " 3   sex          891 non-null    object \n",
      " 4   age          891 non-null    float64\n",
      " 5   sibsp        891 non-null    int64  \n",
      " 6   parch        891 non-null    int64  \n",
      " 7   fare         891 non-null    float64\n",
      " 8   cabin        891 non-null    object \n",
      " 9   agegroup     891 non-null    int64  \n",
      " 10  single       891 non-null    int64  \n",
      " 11  title        891 non-null    object \n",
      "dtypes: float64(2), int64(7), object(3)\n",
      "memory usage: 83.7+ KB\n"
     ]
    }
   ],
   "source": [
    "# list of variables to be used in the pipeline's transformers\n",
    "NUMERICAL_VARIABLES = ['age', 'fare']\n",
    "CATEGORICAL_VARIABLES = ['sex', 'cabin', \"title\"]\n",
    "CABIN = [\"cabin\"]\n",
    "\n",
    "# drop unnecessary variables\n",
    "data = data.drop(labels=['name', 'ticket', \"embarked\"], axis=1)\n",
    "data.info()"
   ]
  },
  {
   "cell_type": "markdown",
   "metadata": {},
   "source": [
    "We'll go ahead and look at the correlation heatmap again:"
   ]
  },
  {
   "cell_type": "code",
   "execution_count": 18,
   "metadata": {},
   "outputs": [
    {
     "data": {
      "image/png": "[encoded data removed]",
      "text/plain": [
       "<Figure size 504x504 with 2 Axes>"
      ]
     },
     "metadata": {
      "needs_background": "light"
     },
     "output_type": "display_data"
    }
   ],
   "source": [
    "# https://seaborn.pydata.org/examples/many_pairwise_correlations.html\n",
    "data_no_pid = data.drop(columns=\"passengerid\")\n",
    "data_corr = data_no_pid.corr()\n",
    "mask = np.triu(np.ones_like(data_corr, dtype=bool))\n",
    "palette = sns.diverging_palette(240, 10, n=9)\n",
    "\n",
    "plt.figure(figsize=(7,7))\n",
    "sns.heatmap(data_corr, mask=mask, center=0,\n",
    "            square=True, cmap=palette, annot=True)\n",
    "plt.show()"
   ]
  },
  {
   "cell_type": "markdown",
   "metadata": {},
   "source": [
    "# Training Approach 1: Naive\n",
    "We'll first try a naive approach to training. The `_train` function below contains the actual training process, while a later function will be defined that will add more evaluation and logs. To walk through what exactly this code is doing, we'll be using the [`Pipeline` class](http://scikit-learn.org/stable/modules/generated/sklearn.pipeline.Pipeline.html) in sklearn. Each step is defined as follows:\n",
    "\n",
    "* `CategoricalImputer` - finds any categorical data points that are missing\n",
    "* `AddMissingIndicator` - finds any numerical data points that are missing\n",
    "* `MeanMedianImputer` - finds any missing numerical data and imputes the median\n",
    "* `ExtractLetterTransformer` - grabs the first letter of the cabin, as there may be multiple cabins per traveller\n",
    "* `RareLabelEncoder` - finds categories that appear less than 5% of the time in the dataset. (as a side note: I'm iffy on keeping this in, we'll see)\n",
    "* `OneHotEncoder` - changes the categorical data points into [one-hot encoding](https://scikit-learn.org/stable/modules/generated/sklearn.preprocessing.OneHotEncoder.html)\n",
    "* `StandardScaler` - normalizes numerical data points\n",
    "* Finally, with all the data properly prepped, the model can make it's predictions\n",
    "\n",
    "From here, we'll calculate some evaluation metrics that will be useful for interpretting how well the model is actually performing. We'll be looking at **accuracy, precision, recall, [f1 score](https://en.wikipedia.org/wiki/F-score), and [auc (area under the curve)](https://machinelearningmastery.com/roc-curves-and-precision-recall-curves-for-classification-in-python/)**"
   ]
  },
  {
   "cell_type": "code",
   "execution_count": 19,
   "metadata": {},
   "outputs": [],
   "source": [
    "def _train(model_name, X, y, train_idx, valid_idx, config=None, verbose=0):\n",
    "    # https://scikit-learn.org/stable/modules/generated/sklearn.model_selection.StratifiedKFold.html\n",
    "    model = make_model(model_name, config, verbose=verbose)\n",
    "\n",
    "    # split the data\n",
    "    X_train, X_valid = X.iloc[train_idx], X.iloc[valid_idx]\n",
    "    y_train, y_valid = y.iloc[train_idx], y.iloc[valid_idx]\n",
    "    \n",
    "    # set up the pipeline\n",
    "    titanic_pipe = Pipeline([\n",
    "        # ===== IMPUTATION =====\n",
    "        # impute categorical variables with string missing\n",
    "        ('categorical_imputation', CategoricalImputer(\n",
    "            imputation_method='missing', variables=CATEGORICAL_VARIABLES)),\n",
    "\n",
    "        # add missing indicator to numerical variables\n",
    "        ('missing_indicator', AddMissingIndicator(variables=NUMERICAL_VARIABLES)),\n",
    "\n",
    "        # impute numerical variables with the median\n",
    "        ('median_imputation', MeanMedianImputer(\n",
    "            imputation_method='median', variables=NUMERICAL_VARIABLES)),\n",
    "    \n",
    "        # Extract letter from cabin\n",
    "        ('extract_letter', ExtractLetterTransformer(variables=CABIN)),\n",
    "\n",
    "        # == CATEGORICAL ENCODING ======\n",
    "        # remove categories present in less than 5% of the observations (0.05)\n",
    "        # group them in one category called 'Rare'\n",
    "        ('rare_label_encoder', RareLabelEncoder(\n",
    "            tol=0.05, n_categories=1, variables=CATEGORICAL_VARIABLES)),\n",
    "\n",
    "        # encode categorical variables using one hot encoding into k-1 variables\n",
    "        ('categorical_encoder', OneHotEncoder(\n",
    "            drop_last=True, variables=CATEGORICAL_VARIABLES)),\n",
    "\n",
    "        # scale\n",
    "        ('scaler', StandardScaler()),\n",
    "\n",
    "        # predict\n",
    "        (model_name, model),\n",
    "    ])\n",
    "    \n",
    "    titanic_pipe.fit(X_train, y_train)\n",
    "    y_probas = titanic_pipe.predict_proba(X_valid)\n",
    "    y_pred = titanic_pipe.predict(X_valid)\n",
    "\n",
    "    accuracy = accuracy_score(y_valid, y_pred)\n",
    "    precision = precision_score(y_valid, y_pred)\n",
    "    recall = recall_score(y_valid, y_pred)\n",
    "    f1 = f1_score(y_valid, y_pred)\n",
    "    auc = roc_auc_score(y_valid, y_pred)\n",
    "    \n",
    "    return (titanic_pipe, \n",
    "            y_valid, y_probas, y_pred, \n",
    "            accuracy, precision, recall, f1, auc)\n",
    "        "
   ]
  },
  {
   "cell_type": "markdown",
   "metadata": {},
   "source": [
    "Below is the specific function we'll call for training. We'll be using Stratified KFold Cross Validation to evaluate the model. "
   ]
  },
  {
   "cell_type": "code",
   "execution_count": 20,
   "metadata": {},
   "outputs": [],
   "source": [
    "def train(model_name, X, y, dry_run=True, config=None, verbose=0):\n",
    "    skf = StratifiedKFold(n_splits=5)\n",
    "    accuracies = []\n",
    "    precisions = []\n",
    "    recalls = []\n",
    "    f1_scores = []\n",
    "    auc_scores = []\n",
    "    best_model: Pipeline\n",
    "    highest_acc = -1\n",
    "    \n",
    "    # USING SKLEARN, NO HYPERPARAMETER SEARCH\n",
    "    if dry_run:\n",
    "        for idx, (train_idx, valid_idx) in enumerate(skf.split(X, y)):\n",
    "            (titanic_pipe, \n",
    "            y_valid, y_probas, y_pred, \n",
    "            accuracy, precision, recall, f1, auc) = _train(model_name, X, y, train_idx, valid_idx, config, verbose)\n",
    "            \n",
    "            print(classification_report(y_valid, y_pred))\n",
    "            cm = confusion_matrix(y_valid, y_pred)\n",
    "            cm_plot = ConfusionMatrixDisplay(cm, display_labels=titanic_pipe.classes_)\n",
    "            cm_plot.plot()\n",
    "            plt.show(cm_plot)\n",
    "            \n",
    "            accuracies.append(accuracy)\n",
    "            precisions.append(precision)\n",
    "            recalls.append(recall)\n",
    "            f1_scores.append(f1)\n",
    "            auc_scores.append(auc)\n",
    "            \n",
    "            if highest_acc < 0: # first run, just set it\n",
    "                best_model = titanic_pipe\n",
    "            else:\n",
    "                best_model = best_model if highest_acc > accuracy else titanic_pipe\n",
    "            \n",
    "            highest_acc = max(highest_acc, accuracy)\n",
    "        \n",
    "        print(f\"Average Mean: {fmean(accuracies):.5f} +/- {stdev(accuracies):.4f}\")\n",
    "        print(f\"Average Precision: {fmean(precisions):.5f} +/- {stdev(precisions):.4f}\")\n",
    "        print(f\"Average Recall: {fmean(recalls):.5f} +/- {stdev(recalls):.4f}\")\n",
    "        print(f\"Average F1 Score: {fmean(f1_scores):.5f} +/- {stdev(f1_scores):.4f}\")\n",
    "        print(f\"Average AUC Score: {fmean(auc_scores):.5f} +/- {stdev(auc_scores):.4f}\")\n",
    "                \n",
    "        \n",
    "    # USING WEIGHTS AND BIASES      \n",
    "    else:\n",
    "        run = wandb.init(project=PROJECT, \n",
    "                        entity=ENTITY, \n",
    "                        config=config,\n",
    "                        reinit=True)\n",
    "        \n",
    "        with run:\n",
    "            model_filepath = os.path.join(os.getcwd(), \"models\")\n",
    "            avg_metrics_dict = {}\n",
    "            column_names = [\"accuracy\", \"precision\", \"recall\", \"f1\", \"auc\"]\n",
    "            \n",
    "            for idx, (train_idx, valid_idx) in enumerate(skf.split(X, y)):\n",
    "                config = run.config\n",
    "                model_id = \"\".join([str(idx+1), \"_\", str(run.id)])\n",
    "                \n",
    "                (titanic_pipe, \n",
    "                y_valid, y_probas, y_pred, \n",
    "                accuracy, precision, recall, f1, auc) = _train(model_name, X, y, train_idx, valid_idx, config, verbose)\n",
    "                \n",
    "                pr = wandb.plot.pr_curve(y_valid, y_probas)\n",
    "                wandb.log({f\"pr_curve\": pr})\n",
    "                \n",
    "                cm = confusion_matrix(y_valid, y_pred)\n",
    "                wandb.log({f\"confusion matrix [{model_id}]\": wandb.Table(columns=[\"died\", \"survived\"],\n",
    "                                                                         rows=[\"died\", \"survived\"],\n",
    "                                                                         data=cm)})\n",
    "            \n",
    "                accuracies.append(accuracy)\n",
    "                precisions.append(precision)\n",
    "                recalls.append(recall)\n",
    "                f1_scores.append(f1)\n",
    "                auc_scores.append(auc)\n",
    "                \n",
    "                if highest_acc < 0: # first run, just set it\n",
    "                    best_model = titanic_pipe\n",
    "                else:\n",
    "                    best_model = best_model if highest_acc > accuracy else titanic_pipe\n",
    "                \n",
    "                highest_acc = max(highest_acc, accuracy)\n",
    "                \n",
    "            # Log metrics using wandb  \n",
    "            avg_metrics_dict[\"avg_acc\"] = fmean(accuracies)  \n",
    "            avg_metrics_dict[\"avg_acc_std\"] = stdev(accuracies)\n",
    "            \n",
    "            avg_metrics_dict[\"avg_precision\"] = fmean(precisions)\n",
    "            avg_metrics_dict[\"avg_precision_std\"] = stdev(precisions)\n",
    "            \n",
    "            avg_metrics_dict[\"avg_recall\"] = fmean(recalls)\n",
    "            avg_metrics_dict[\"avg_recall_std\"] = stdev(recalls)\n",
    "            \n",
    "            avg_metrics_dict[\"avg_f1_score\"] = fmean(f1_scores)\n",
    "            avg_metrics_dict[\"avg_f1_score_std\"] = stdev(f1_scores)\n",
    "            \n",
    "            avg_metrics_dict[\"avg_auc_score\"] = fmean(auc_scores)\n",
    "            avg_metrics_dict[\"avg_auc_score_std\"] = stdev(auc_scores)\n",
    "            \n",
    "            wandb.log(avg_metrics_dict)\n",
    "            \n",
    "            # Create a table of all the individual metrics\n",
    "            wandb.log({f\"performance_metrics_{run.id}]\": wandb.Table(columns=column_names,\n",
    "                                                                     data=[accuracies,\n",
    "                                                                           precisions, \n",
    "                                                                           recalls, \n",
    "                                                                           f1_scores,\n",
    "                                                                           auc_scores])})\n",
    "            \n",
    "            # Save the best model on wandb\n",
    "            full_path = os.path.join(model_filepath, \"\".join([model_name.lower(),'.joblib']))\n",
    "            dump(best_model, full_path)\n",
    "            run.log_artifact(full_path, \n",
    "                             name=f\"{model_name.lower()}\", \n",
    "                             aliases=str(run.id), \n",
    "                             type=\"model\")"
   ]
  },
  {
   "cell_type": "markdown",
   "metadata": {},
   "source": [
    "For our naive approach, we will simply provide a dictionary representation of our hyperparameters for RFC and LR classifiers."
   ]
  },
  {
   "cell_type": "code",
   "execution_count": 21,
   "metadata": {},
   "outputs": [],
   "source": [
    "rfc_config = {\n",
    "    \"n_estimators\": 100,\n",
    "    \"min_samples_leaf\": 10,\n",
    "    \"criterion\": \"gini\"\n",
    "}\n",
    "\n",
    "logit_config = {\n",
    "    \"C\": 0.0005,\n",
    "    \"max_iter\": 100\n",
    "}"
   ]
  },
  {
   "cell_type": "code",
   "execution_count": 22,
   "metadata": {},
   "outputs": [],
   "source": [
    "def make_model(model_name, config, verbose=0):\n",
    "    if model_name == \"RFC\":\n",
    "        return RandomForestClassifier(n_estimators=config[\"n_estimators\"],\n",
    "                                      min_samples_leaf=config[\"min_samples_leaf\"],\n",
    "                                      criterion=config[\"criterion\"],\n",
    "                                      verbose=verbose,\n",
    "                                      random_state=42)\n",
    "        \n",
    "    elif model_name == \"Logit\":\n",
    "        return LogisticRegression(C=config[\"C\"],\n",
    "                                  max_iter=config[\"max_iter\"],\n",
    "                                  verbose=verbose,\n",
    "                                  random_state=42)"
   ]
  },
  {
   "cell_type": "markdown",
   "metadata": {},
   "source": [
    "## Basic Training Run Output\n",
    "Now we train! For ever fold we train on (5 in total), we will see the different performance metrics displayed using sklearn's [`classification_report` function](http://scikit-learn.org/stable/modules/generated/sklearn.metrics.classification_report.html) and a [confusion matrix](https://en.wikipedia.org/wiki/Confusion_matrix). Then, we'll see all of the averages for each metric and calculate their standard deviation."
   ]
  },
  {
   "cell_type": "code",
   "execution_count": 23,
   "metadata": {},
   "outputs": [
    {
     "name": "stdout",
     "output_type": "stream",
     "text": [
      "              precision    recall  f1-score   support\n",
      "\n",
      "           0       0.84      0.91      0.87       110\n",
      "           1       0.83      0.72      0.78        69\n",
      "\n",
      "    accuracy                           0.84       179\n",
      "   macro avg       0.84      0.82      0.82       179\n",
      "weighted avg       0.84      0.84      0.84       179\n",
      "\n"
     ]
    },
    {
     "data": {
      "image/png": "[encoded data removed]",
      "text/plain": [
       "<Figure size 432x288 with 2 Axes>"
      ]
     },
     "metadata": {
      "needs_background": "light"
     },
     "output_type": "display_data"
    },
    {
     "name": "stdout",
     "output_type": "stream",
     "text": [
      "              precision    recall  f1-score   support\n",
      "\n",
      "           0       0.85      0.86      0.86       110\n",
      "           1       0.77      0.75      0.76        68\n",
      "\n",
      "    accuracy                           0.82       178\n",
      "   macro avg       0.81      0.81      0.81       178\n",
      "weighted avg       0.82      0.82      0.82       178\n",
      "\n"
     ]
    },
    {
     "data": {
      "image/png": "[encoded data removed]",
      "text/plain": [
       "<Figure size 432x288 with 2 Axes>"
      ]
     },
     "metadata": {
      "needs_background": "light"
     },
     "output_type": "display_data"
    },
    {
     "name": "stdout",
     "output_type": "stream",
     "text": [
      "              precision    recall  f1-score   support\n",
      "\n",
      "           0       0.84      0.88      0.86       110\n",
      "           1       0.79      0.74      0.76        68\n",
      "\n",
      "    accuracy                           0.83       178\n",
      "   macro avg       0.82      0.81      0.81       178\n",
      "weighted avg       0.82      0.83      0.82       178\n",
      "\n"
     ]
    },
    {
     "data": {
      "image/png": "[encoded data removed]",
      "text/plain": [
       "<Figure size 432x288 with 2 Axes>"
      ]
     },
     "metadata": {
      "needs_background": "light"
     },
     "output_type": "display_data"
    },
    {
     "name": "stdout",
     "output_type": "stream",
     "text": [
      "              precision    recall  f1-score   support\n",
      "\n",
      "           0       0.79      0.91      0.85       110\n",
      "           1       0.81      0.62      0.70        68\n",
      "\n",
      "    accuracy                           0.80       178\n",
      "   macro avg       0.80      0.76      0.77       178\n",
      "weighted avg       0.80      0.80      0.79       178\n",
      "\n"
     ]
    },
    {
     "data": {
      "image/png": "[encoded data removed]",
      "text/plain": [
       "<Figure size 432x288 with 2 Axes>"
      ]
     },
     "metadata": {
      "needs_background": "light"
     },
     "output_type": "display_data"
    },
    {
     "name": "stdout",
     "output_type": "stream",
     "text": [
      "              precision    recall  f1-score   support\n",
      "\n",
      "           0       0.87      0.89      0.88       109\n",
      "           1       0.82      0.78      0.80        69\n",
      "\n",
      "    accuracy                           0.85       178\n",
      "   macro avg       0.84      0.84      0.84       178\n",
      "weighted avg       0.85      0.85      0.85       178\n",
      "\n"
     ]
    },
    {
     "data": {
      "image/png": "[encoded data removed]",
      "text/plain": [
       "<Figure size 432x288 with 2 Axes>"
      ]
     },
     "metadata": {
      "needs_background": "light"
     },
     "output_type": "display_data"
    },
    {
     "name": "stdout",
     "output_type": "stream",
     "text": [
      "Average Mean: 0.82602 +/- 0.0192\n",
      "Average Precision: 0.80512 +/- 0.0232\n",
      "Average Recall: 0.72204 +/- 0.0623\n",
      "Average F1 Score: 0.75995 +/- 0.0369\n",
      "Average AUC Score: 0.80637 +/- 0.0267\n"
     ]
    }
   ],
   "source": [
    "train(\"RFC\", data.drop('survived', axis=1), data['survived'], config=rfc_config)"
   ]
  },
  {
   "cell_type": "code",
   "execution_count": 24,
   "metadata": {},
   "outputs": [
    {
     "name": "stdout",
     "output_type": "stream",
     "text": [
      "              precision    recall  f1-score   support\n",
      "\n",
      "           0       0.63      1.00      0.77       110\n",
      "           1       1.00      0.07      0.14        69\n",
      "\n",
      "    accuracy                           0.64       179\n",
      "   macro avg       0.82      0.54      0.45       179\n",
      "weighted avg       0.77      0.64      0.53       179\n",
      "\n"
     ]
    },
    {
     "data": {
      "image/png": "[encoded data removed]",
      "text/plain": [
       "<Figure size 432x288 with 2 Axes>"
      ]
     },
     "metadata": {
      "needs_background": "light"
     },
     "output_type": "display_data"
    },
    {
     "name": "stdout",
     "output_type": "stream",
     "text": [
      "              precision    recall  f1-score   support\n",
      "\n",
      "           0       0.69      0.99      0.81       110\n",
      "           1       0.95      0.26      0.41        68\n",
      "\n",
      "    accuracy                           0.71       178\n",
      "   macro avg       0.82      0.63      0.61       178\n",
      "weighted avg       0.79      0.71      0.66       178\n",
      "\n"
     ]
    },
    {
     "data": {
      "image/png": "[encoded data removed]",
      "text/plain": [
       "<Figure size 432x288 with 2 Axes>"
      ]
     },
     "metadata": {
      "needs_background": "light"
     },
     "output_type": "display_data"
    },
    {
     "name": "stdout",
     "output_type": "stream",
     "text": [
      "              precision    recall  f1-score   support\n",
      "\n",
      "           0       0.64      0.99      0.78       110\n",
      "           1       0.88      0.10      0.18        68\n",
      "\n",
      "    accuracy                           0.65       178\n",
      "   macro avg       0.76      0.55      0.48       178\n",
      "weighted avg       0.73      0.65      0.55       178\n",
      "\n"
     ]
    },
    {
     "data": {
      "image/png": "[encoded data removed]",
      "text/plain": [
       "<Figure size 432x288 with 2 Axes>"
      ]
     },
     "metadata": {
      "needs_background": "light"
     },
     "output_type": "display_data"
    },
    {
     "name": "stdout",
     "output_type": "stream",
     "text": [
      "              precision    recall  f1-score   support\n",
      "\n",
      "           0       0.65      1.00      0.79       110\n",
      "           1       1.00      0.13      0.23        68\n",
      "\n",
      "    accuracy                           0.67       178\n",
      "   macro avg       0.83      0.57      0.51       178\n",
      "weighted avg       0.78      0.67      0.58       178\n",
      "\n"
     ]
    },
    {
     "data": {
      "image/png": "[encoded data removed]",
      "text/plain": [
       "<Figure size 432x288 with 2 Axes>"
      ]
     },
     "metadata": {
      "needs_background": "light"
     },
     "output_type": "display_data"
    },
    {
     "name": "stdout",
     "output_type": "stream",
     "text": [
      "              precision    recall  f1-score   support\n",
      "\n",
      "           0       0.63      1.00      0.78       109\n",
      "           1       1.00      0.09      0.16        69\n",
      "\n",
      "    accuracy                           0.65       178\n",
      "   macro avg       0.82      0.54      0.47       178\n",
      "weighted avg       0.78      0.65      0.54       178\n",
      "\n"
     ]
    },
    {
     "data": {
      "image/png": "[encoded data removed]",
      "text/plain": [
       "<Figure size 432x288 with 2 Axes>"
      ]
     },
     "metadata": {
      "needs_background": "light"
     },
     "output_type": "display_data"
    },
    {
     "name": "stdout",
     "output_type": "stream",
     "text": [
      "Average Mean: 0.66445 +/- 0.0292\n",
      "Average Precision: 0.96447 +/- 0.0550\n",
      "Average Recall: 0.13188 +/- 0.0775\n",
      "Average F1 Score: 0.22538 +/- 0.1114\n",
      "Average AUC Score: 0.56412 +/- 0.0373\n"
     ]
    }
   ],
   "source": [
    "train(\"Logit\", data.drop('survived', axis=1), data['survived'], config=logit_config)"
   ]
  },
  {
   "cell_type": "markdown",
   "metadata": {},
   "source": [
    "We can see the performance of these models is fairly lukewarm (ESPECIALLY the LR), and the main reason is likely because we haven't tuned the hyperparameters for the RF and LR classifiers. To fix this, we'll do some hyperparameters sweeps."
   ]
  },
  {
   "cell_type": "markdown",
   "metadata": {},
   "source": [
    "# Training Approach 2: Tune Hyperparameters with Sweeps using Weights and Biases\n",
    "It's clear we can likely do better with both models, so I'm going to do a hyperparameter sweep/search using Weights and Biases. You can see the specific sweeps I performed [here](https://wandb.ai/nclgbd/Titanic-Classification/sweeps?workspace=user-nclgbd), but I will explain the general process. I first started out with a random search, as a grid search would be far too computationally complex, especially since I wasn't sure quite where to start using, however I was sure I wanted to use a Random Forest Classifier and Logistic Regression, as I'm more familiar with the architecture of those models. The random search ran 10 times, and I would look at common trends in the metrics that were returned to further narrow the scope of the hyperparameter values."
   ]
  },
  {
   "cell_type": "code",
   "execution_count": 25,
   "metadata": {},
   "outputs": [
    {
     "name": "stdout",
     "output_type": "stream",
     "text": [
      "{'method': 'grid',\n",
      " 'metric': {'goal': 'maximize', 'name': 'avg_acc'},\n",
      " 'name': 'rfc-61a96',\n",
      " 'parameters': {'criterion': {'value': 'entropy'},\n",
      "                'min_samples_leaf': {'value': 1},\n",
      "                'n_estimators': {'value': 5000}}}\n",
      "Create sweep with ID: uqvtecbo\n",
      "Sweep URL: https://wandb.ai/nclgbd/Titanic-Classification/sweeps/uqvtecbo\n"
     ]
    }
   ],
   "source": [
    "# Initialize random forest sweep\n",
    "rfc_ts = '{0:010x}'.format(int(time() * 256))[:5] # for getting a unique\n",
    "rfc_sweep_config = {\n",
    "    \"name\": f\"rfc-{rfc_ts}\",\n",
    "    \"method\": \"random\"\n",
    "}\n",
    "\n",
    "metric = {\n",
    "    \"name\": \"avg_acc\",\n",
    "    \"goal\": \"maximize\"\n",
    "}\n",
    "\n",
    "parameters = {\n",
    "    \"n_estimators\": {\n",
    "        \"distribution\": \"int_uniform\",\n",
    "        \"min\": 5000,\n",
    "        \"max\":6000\n",
    "        },\n",
    "    \n",
    "    \"criterion\" : {\n",
    "        \"values\": [\"gini\", \"entropy\"]\n",
    "        },\n",
    "    \n",
    "    \"min_samples_leaf\" : {\n",
    "        \"value\": 1\n",
    "        }\n",
    "}\n",
    "\n",
    "rfc_sweep_config[\"metric\"] = metric\n",
    "rfc_sweep_config[\"parameters\"] = parameters\n",
    "pprint(rfc_sweep_config)\n",
    "\n",
    "rfc_sweep_id = wandb.sweep(rfc_sweep_config, \n",
    "                           project=PROJECT, \n",
    "                           entity=ENTITY)"
   ]
  },
  {
   "cell_type": "code",
   "execution_count": 26,
   "metadata": {},
   "outputs": [
    {
     "name": "stdout",
     "output_type": "stream",
     "text": [
      "{'method': 'grid',\n",
      " 'metric': {'goal': 'maximize', 'name': 'avg_acc'},\n",
      " 'name': 'logit-61a96',\n",
      " 'parameters': {'C': {'value': 0.2}, 'max_iter': {'value': 100}}}\n",
      "Create sweep with ID: kb2wb9ew\n",
      "Sweep URL: https://wandb.ai/nclgbd/Titanic-Classification/sweeps/kb2wb9ew\n"
     ]
    }
   ],
   "source": [
    "# Initialize logistic regression sweep\n",
    "rfc_ts = '{0:010x}'.format(int(time() * 256))[:5] # for getting a unique name\n",
    "logit_sweep_config = {\n",
    "    \"name\": \"logit-{logit_ts}\",\n",
    "    \"method\": \"random\"\n",
    "}\n",
    "\n",
    "metric = {\n",
    "    \"name\": \"avg_acc\",\n",
    "    \"goal\": \"maximize\"\n",
    "}\n",
    "\n",
    "parameters = {\n",
    "    \"C\": {\n",
    "        \"values\": [0.0001, 0.0005, 0.001, 0.005, 0.01, 0.05, 0.1, 0.5, 1]\n",
    "    },\n",
    "    \"max_iter\": {\n",
    "        \"values\": [100, 500, 1000]\n",
    "    }\n",
    "}\n",
    "\n",
    "logit_sweep_config[\"metric\"] = metric\n",
    "logit_sweep_config[\"parameters\"] = parameters\n",
    "pprint(logit_sweep_config)\n",
    "\n",
    "logit_sweep_id = wandb.sweep(logit_sweep_config, \n",
    "                             project=PROJECT, \n",
    "                             entity=ENTITY)"
   ]
  },
  {
   "cell_type": "code",
   "execution_count": 27,
   "metadata": {},
   "outputs": [],
   "source": [
    "def sweep_rfc(config=None):\n",
    "    train(\"RFC\", data.drop('survived', axis=1), data['survived'], dry_run=False, config=config)"
   ]
  },
  {
   "cell_type": "code",
   "execution_count": 28,
   "metadata": {},
   "outputs": [],
   "source": [
    "def sweep_logit(config=None):\n",
    "    train(\"Logit\", data.drop('survived', axis=1), data['survived'], dry_run=False, config=config)"
   ]
  },
  {
   "cell_type": "code",
   "execution_count": null,
   "metadata": {},
   "outputs": [],
   "source": [
    "\n",
    "\n",
    "logit_config = {\n",
    "    \"C\": 0.2,\n",
    "    \"max_iter\": 100\n",
    "}"
   ]
  },
  {
   "cell_type": "markdown",
   "metadata": {},
   "source": [
    "## Random Forest Classifier (RFC) Analysis"
   ]
  },
  {
   "cell_type": "code",
   "execution_count": 29,
   "metadata": {},
   "outputs": [],
   "source": [
    "wandb.agent(rfc_sweep_id, sweep_rfc, \n",
    "            project=PROJECT, entity=ENTITY)"
   ]
  },
  {
   "cell_type": "markdown",
   "metadata": {},
   "source": [
    "Running the code above will cause a sweep to run on the weights and biases account, and since there were multiple runs, I will point out key things from certain sweeps:\n",
    "### kvix799f\n",
    "![](media/kvix799f-sweep.png)\n",
    "Look at the different hyperparameters above, it's clear that runs where `min_samples_leaf=1` and `n_esimators=5000` were yielding better accuracy, which is supported by the negative correlation and positive correlations with the average accuracy respectively. It was still possible that the `n_estimators=10000` may have performed poorly due to the `min_samples_leaf=75`, however on subsuquent sweeps it seemed that `5000 <= n_estimators <= 10000` had no real effect.\n",
    "\n",
    "![negative correlation](media\\kvix799f-avgacc-vs-msl.png)\n",
    "Here, we can see the negative correlation between the average accuracy and minimum sample leaves\n",
    "\n",
    "![positive correlation](media\\kvix799f-nestim-vs-acc.png)\n",
    "Here, we can see the positive correlation between the average accuracy and the number of estimators (`n_estimators=10000` being an outlier)\n",
    "\n",
    "![](media/rfc-61a88-entropy-better-than-gini.png)\n",
    "I felt comfortable setting `min_samples_leaf=1` and `5000 <= n_estimators <= 6000`, so all that was left was to decide the loss function. Sklearn's `RandomForestClassifier` offers two: [cross entropy](https://en.wikipedia.org/wiki/Cross_entropy) and [gini](https://towardsdatascience.com/gini-index-vs-information-entropy-7a7e4fed3fcb), and so I did more random searches using a the two cross entropy's and an `int_uniform` distribution search for `n_estimators` between 5000 and 6000. It seemed pretty clear that this range had a minimal effect on the performance, but cross entropy performed better than gini."
   ]
  },
  {
   "cell_type": "code",
   "execution_count": null,
   "metadata": {},
   "outputs": [],
   "source": [
    "rfc_config = {\n",
    "    \"n_estimators\": 5000,\n",
    "    \"min_samples_leaf\": 1,\n",
    "    \"criterion\": \"entropy\"\n",
    "}"
   ]
  },
  {
   "cell_type": "markdown",
   "metadata": {},
   "source": [
    "So with these hyperparameters, I trained the model again, receiving the results below:"
   ]
  },
  {
   "cell_type": "code",
   "execution_count": 31,
   "metadata": {},
   "outputs": [
    {
     "name": "stdout",
     "output_type": "stream",
     "text": [
      "              precision    recall  f1-score   support\n",
      "\n",
      "           0       0.84      0.91      0.87       110\n",
      "           1       0.83      0.72      0.78        69\n",
      "\n",
      "    accuracy                           0.84       179\n",
      "   macro avg       0.84      0.82      0.82       179\n",
      "weighted avg       0.84      0.84      0.84       179\n",
      "\n"
     ]
    },
    {
     "data": {
      "image/png": "[encoded data removed]",
      "text/plain": [
       "<Figure size 432x288 with 2 Axes>"
      ]
     },
     "metadata": {
      "needs_background": "light"
     },
     "output_type": "display_data"
    },
    {
     "name": "stdout",
     "output_type": "stream",
     "text": [
      "              precision    recall  f1-score   support\n",
      "\n",
      "           0       0.85      0.86      0.86       110\n",
      "           1       0.77      0.75      0.76        68\n",
      "\n",
      "    accuracy                           0.82       178\n",
      "   macro avg       0.81      0.81      0.81       178\n",
      "weighted avg       0.82      0.82      0.82       178\n",
      "\n"
     ]
    },
    {
     "data": {
      "image/png": "[encoded data removed]",
      "text/plain": [
       "<Figure size 432x288 with 2 Axes>"
      ]
     },
     "metadata": {
      "needs_background": "light"
     },
     "output_type": "display_data"
    },
    {
     "name": "stdout",
     "output_type": "stream",
     "text": [
      "              precision    recall  f1-score   support\n",
      "\n",
      "           0       0.84      0.88      0.86       110\n",
      "           1       0.79      0.74      0.76        68\n",
      "\n",
      "    accuracy                           0.83       178\n",
      "   macro avg       0.82      0.81      0.81       178\n",
      "weighted avg       0.82      0.83      0.82       178\n",
      "\n"
     ]
    },
    {
     "data": {
      "image/png": "[encoded data removed]",
      "text/plain": [
       "<Figure size 432x288 with 2 Axes>"
      ]
     },
     "metadata": {
      "needs_background": "light"
     },
     "output_type": "display_data"
    },
    {
     "name": "stdout",
     "output_type": "stream",
     "text": [
      "              precision    recall  f1-score   support\n",
      "\n",
      "           0       0.79      0.91      0.85       110\n",
      "           1       0.81      0.62      0.70        68\n",
      "\n",
      "    accuracy                           0.80       178\n",
      "   macro avg       0.80      0.76      0.77       178\n",
      "weighted avg       0.80      0.80      0.79       178\n",
      "\n"
     ]
    },
    {
     "data": {
      "image/png": "[encoded data removed]",
      "text/plain": [
       "<Figure size 432x288 with 2 Axes>"
      ]
     },
     "metadata": {
      "needs_background": "light"
     },
     "output_type": "display_data"
    },
    {
     "name": "stdout",
     "output_type": "stream",
     "text": [
      "              precision    recall  f1-score   support\n",
      "\n",
      "           0       0.87      0.89      0.88       109\n",
      "           1       0.82      0.78      0.80        69\n",
      "\n",
      "    accuracy                           0.85       178\n",
      "   macro avg       0.84      0.84      0.84       178\n",
      "weighted avg       0.85      0.85      0.85       178\n",
      "\n"
     ]
    },
    {
     "data": {
      "image/png": "[encoded data removed]",
      "text/plain": [
       "<Figure size 432x288 with 2 Axes>"
      ]
     },
     "metadata": {
      "needs_background": "light"
     },
     "output_type": "display_data"
    },
    {
     "name": "stdout",
     "output_type": "stream",
     "text": [
      "Average Mean: 0.82602 +/- 0.0192\n",
      "Average Precision: 0.80512 +/- 0.0232\n",
      "Average Recall: 0.72204 +/- 0.0623\n",
      "Average F1 Score: 0.75995 +/- 0.0369\n",
      "Average AUC Score: 0.80637 +/- 0.0267\n"
     ]
    }
   ],
   "source": [
    "train(\"RFC\", data.drop('survived', axis=1), data['survived'], config=rfc_config)"
   ]
  },
  {
   "cell_type": "markdown",
   "metadata": {},
   "source": [
    "## Logistic Regression (LR) Analysis"
   ]
  },
  {
   "cell_type": "code",
   "execution_count": 30,
   "metadata": {},
   "outputs": [],
   "source": [
    "wandb.agent(logit_sweep_id, sweep_logit, \n",
    "            project=PROJECT, entity=ENTITY, \n",
    "            count=10)"
   ]
  },
  {
   "cell_type": "code",
   "execution_count": 32,
   "metadata": {},
   "outputs": [
    {
     "name": "stdout",
     "output_type": "stream",
     "text": [
      "              precision    recall  f1-score   support\n",
      "\n",
      "           0       0.63      1.00      0.77       110\n",
      "           1       1.00      0.07      0.14        69\n",
      "\n",
      "    accuracy                           0.64       179\n",
      "   macro avg       0.82      0.54      0.45       179\n",
      "weighted avg       0.77      0.64      0.53       179\n",
      "\n"
     ]
    },
    {
     "data": {
      "image/png": "[encoded data removed]",
      "text/plain": [
       "<Figure size 432x288 with 2 Axes>"
      ]
     },
     "metadata": {
      "needs_background": "light"
     },
     "output_type": "display_data"
    },
    {
     "name": "stdout",
     "output_type": "stream",
     "text": [
      "              precision    recall  f1-score   support\n",
      "\n",
      "           0       0.69      0.99      0.81       110\n",
      "           1       0.95      0.26      0.41        68\n",
      "\n",
      "    accuracy                           0.71       178\n",
      "   macro avg       0.82      0.63      0.61       178\n",
      "weighted avg       0.79      0.71      0.66       178\n",
      "\n"
     ]
    },
    {
     "data": {
      "image/png": "[encoded data removed]",
      "text/plain": [
       "<Figure size 432x288 with 2 Axes>"
      ]
     },
     "metadata": {
      "needs_background": "light"
     },
     "output_type": "display_data"
    },
    {
     "name": "stdout",
     "output_type": "stream",
     "text": [
      "              precision    recall  f1-score   support\n",
      "\n",
      "           0       0.64      0.99      0.78       110\n",
      "           1       0.88      0.10      0.18        68\n",
      "\n",
      "    accuracy                           0.65       178\n",
      "   macro avg       0.76      0.55      0.48       178\n",
      "weighted avg       0.73      0.65      0.55       178\n",
      "\n"
     ]
    },
    {
     "data": {
      "image/png": "[encoded data removed]",
      "text/plain": [
       "<Figure size 432x288 with 2 Axes>"
      ]
     },
     "metadata": {
      "needs_background": "light"
     },
     "output_type": "display_data"
    },
    {
     "name": "stdout",
     "output_type": "stream",
     "text": [
      "              precision    recall  f1-score   support\n",
      "\n",
      "           0       0.65      1.00      0.79       110\n",
      "           1       1.00      0.13      0.23        68\n",
      "\n",
      "    accuracy                           0.67       178\n",
      "   macro avg       0.83      0.57      0.51       178\n",
      "weighted avg       0.78      0.67      0.58       178\n",
      "\n"
     ]
    },
    {
     "data": {
      "image/png": "[encoded data removed]",
      "text/plain": [
       "<Figure size 432x288 with 2 Axes>"
      ]
     },
     "metadata": {
      "needs_background": "light"
     },
     "output_type": "display_data"
    },
    {
     "name": "stdout",
     "output_type": "stream",
     "text": [
      "              precision    recall  f1-score   support\n",
      "\n",
      "           0       0.63      1.00      0.78       109\n",
      "           1       1.00      0.09      0.16        69\n",
      "\n",
      "    accuracy                           0.65       178\n",
      "   macro avg       0.82      0.54      0.47       178\n",
      "weighted avg       0.78      0.65      0.54       178\n",
      "\n"
     ]
    },
    {
     "data": {
      "image/png": "[encoded data removed]",
      "text/plain": [
       "<Figure size 432x288 with 2 Axes>"
      ]
     },
     "metadata": {
      "needs_background": "light"
     },
     "output_type": "display_data"
    },
    {
     "name": "stdout",
     "output_type": "stream",
     "text": [
      "Average Mean: 0.66445 +/- 0.0292\n",
      "Average Precision: 0.96447 +/- 0.0550\n",
      "Average Recall: 0.13188 +/- 0.0775\n",
      "Average F1 Score: 0.22538 +/- 0.1114\n",
      "Average AUC Score: 0.56412 +/- 0.0373\n"
     ]
    }
   ],
   "source": [
    "train(\"Logit\", data.drop('survived', axis=1), data['survived'], config=logit_config)"
   ]
  }
 ],
 "metadata": {
  "interpreter": {
   "hash": "41dcb3df7a8e448bf83379670cc02fc2d70aad4559f18719c644d3c5955fb8b9"
  },
  "kernelspec": {
   "display_name": "Python 3.10.0 64-bit ('tcss551_titanic': conda)",
   "language": "python",
   "name": "python3"
  },
  "language_info": {
   "codemirror_mode": {
    "name": "ipython",
    "version": 3
   },
   "file_extension": ".py",
   "mimetype": "text/x-python",
   "name": "python",
   "nbconvert_exporter": "python",
   "pygments_lexer": "ipython3",
   "version": "3.10.0"
  },
  "orig_nbformat": 4
 },
 "nbformat": 4,
 "nbformat_minor": 2
}
